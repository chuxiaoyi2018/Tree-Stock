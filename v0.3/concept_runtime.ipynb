{
 "cells": [
  {
   "cell_type": "code",
   "execution_count": 1,
   "id": "4d64ed01-73df-4031-b1a0-b2ec3f60a858",
   "metadata": {},
   "outputs": [
    {
     "name": "stdout",
     "output_type": "stream",
     "text": [
      "Begin concept feature\n"
     ]
    },
    {
     "name": "stderr",
     "output_type": "stream",
     "text": [
      "  0%|          | 0/31 [00:00<?, ?it/s]"
     ]
    },
    {
     "name": "stdout",
     "output_type": "stream",
     "text": [
      "74.77 Mb, 26.89 Mb (64.03 %)\n"
     ]
    },
    {
     "name": "stderr",
     "output_type": "stream",
     "text": [
      "  3%|▎         | 1/31 [00:00<00:21,  1.41it/s]"
     ]
    },
    {
     "name": "stdout",
     "output_type": "stream",
     "text": [
      "36.81 Mb, 28.80 Mb (21.76 %)\n"
     ]
    },
    {
     "name": "stderr",
     "output_type": "stream",
     "text": [
      "  6%|▋         | 2/31 [00:01<00:20,  1.39it/s]"
     ]
    },
    {
     "name": "stdout",
     "output_type": "stream",
     "text": [
      "39.48 Mb, 31.47 Mb (20.29 %)\n"
     ]
    },
    {
     "name": "stderr",
     "output_type": "stream",
     "text": [
      " 10%|▉         | 3/31 [00:02<00:20,  1.34it/s]"
     ]
    },
    {
     "name": "stdout",
     "output_type": "stream",
     "text": [
      "42.15 Mb, 34.14 Mb (19.00 %)\n"
     ]
    },
    {
     "name": "stderr",
     "output_type": "stream",
     "text": [
      " 13%|█▎        | 4/31 [00:03<00:20,  1.30it/s]"
     ]
    },
    {
     "name": "stdout",
     "output_type": "stream",
     "text": [
      "44.82 Mb, 36.81 Mb (17.87 %)\n"
     ]
    },
    {
     "name": "stderr",
     "output_type": "stream",
     "text": [
      " 16%|█▌        | 5/31 [00:03<00:20,  1.30it/s]"
     ]
    },
    {
     "name": "stdout",
     "output_type": "stream",
     "text": [
      "47.49 Mb, 42.15 Mb (11.24 %)\n"
     ]
    },
    {
     "name": "stderr",
     "output_type": "stream",
     "text": [
      " 19%|█▉        | 6/31 [00:04<00:18,  1.32it/s]"
     ]
    },
    {
     "name": "stdout",
     "output_type": "stream",
     "text": [
      "52.83 Mb, 47.49 Mb (10.11 %)\n"
     ]
    },
    {
     "name": "stderr",
     "output_type": "stream",
     "text": [
      " 23%|██▎       | 7/31 [00:05<00:19,  1.22it/s]"
     ]
    },
    {
     "name": "stdout",
     "output_type": "stream",
     "text": [
      "58.17 Mb, 48.83 Mb (16.07 %)\n"
     ]
    },
    {
     "name": "stderr",
     "output_type": "stream",
     "text": [
      " 26%|██▌       | 8/31 [00:06<00:18,  1.23it/s]"
     ]
    },
    {
     "name": "stdout",
     "output_type": "stream",
     "text": [
      "59.51 Mb, 51.50 Mb (13.46 %)\n"
     ]
    },
    {
     "name": "stderr",
     "output_type": "stream",
     "text": [
      " 29%|██▉       | 9/31 [00:07<00:17,  1.25it/s]"
     ]
    },
    {
     "name": "stdout",
     "output_type": "stream",
     "text": [
      "62.18 Mb, 54.17 Mb (12.88 %)\n"
     ]
    },
    {
     "name": "stderr",
     "output_type": "stream",
     "text": [
      " 32%|███▏      | 10/31 [00:07<00:16,  1.26it/s]"
     ]
    },
    {
     "name": "stdout",
     "output_type": "stream",
     "text": [
      "64.85 Mb, 56.84 Mb (12.35 %)\n"
     ]
    },
    {
     "name": "stderr",
     "output_type": "stream",
     "text": [
      " 35%|███▌      | 11/31 [00:08<00:16,  1.24it/s]"
     ]
    },
    {
     "name": "stdout",
     "output_type": "stream",
     "text": [
      "67.52 Mb, 59.51 Mb (11.86 %)\n"
     ]
    },
    {
     "name": "stderr",
     "output_type": "stream",
     "text": [
      " 39%|███▊      | 12/31 [00:09<00:15,  1.26it/s]"
     ]
    },
    {
     "name": "stdout",
     "output_type": "stream",
     "text": [
      "70.19 Mb, 64.85 Mb (7.61 %)\n"
     ]
    },
    {
     "name": "stderr",
     "output_type": "stream",
     "text": [
      " 42%|████▏     | 13/31 [00:10<00:14,  1.26it/s]"
     ]
    },
    {
     "name": "stdout",
     "output_type": "stream",
     "text": [
      "75.53 Mb, 67.52 Mb (10.61 %)\n"
     ]
    },
    {
     "name": "stderr",
     "output_type": "stream",
     "text": [
      " 45%|████▌     | 14/31 [00:11<00:13,  1.25it/s]"
     ]
    },
    {
     "name": "stdout",
     "output_type": "stream",
     "text": [
      "78.20 Mb, 70.19 Mb (10.24 %)\n"
     ]
    },
    {
     "name": "stderr",
     "output_type": "stream",
     "text": [
      " 48%|████▊     | 15/31 [00:11<00:12,  1.28it/s]"
     ]
    },
    {
     "name": "stdout",
     "output_type": "stream",
     "text": [
      "80.87 Mb, 72.86 Mb (9.91 %)\n"
     ]
    },
    {
     "name": "stderr",
     "output_type": "stream",
     "text": [
      " 52%|█████▏    | 16/31 [00:12<00:11,  1.28it/s]"
     ]
    },
    {
     "name": "stdout",
     "output_type": "stream",
     "text": [
      "83.54 Mb, 75.53 Mb (9.59 %)\n"
     ]
    },
    {
     "name": "stderr",
     "output_type": "stream",
     "text": [
      " 55%|█████▍    | 17/31 [00:13<00:11,  1.24it/s]"
     ]
    },
    {
     "name": "stdout",
     "output_type": "stream",
     "text": [
      "86.21 Mb, 78.20 Mb (9.29 %)\n"
     ]
    },
    {
     "name": "stderr",
     "output_type": "stream",
     "text": [
      " 58%|█████▊    | 18/31 [00:14<00:10,  1.21it/s]"
     ]
    },
    {
     "name": "stdout",
     "output_type": "stream",
     "text": [
      "88.88 Mb, 80.87 Mb (9.01 %)\n"
     ]
    },
    {
     "name": "stderr",
     "output_type": "stream",
     "text": [
      " 61%|██████▏   | 19/31 [00:15<00:10,  1.20it/s]"
     ]
    },
    {
     "name": "stdout",
     "output_type": "stream",
     "text": [
      "91.55 Mb, 83.54 Mb (8.75 %)\n"
     ]
    },
    {
     "name": "stderr",
     "output_type": "stream",
     "text": [
      " 65%|██████▍   | 20/31 [00:15<00:09,  1.20it/s]"
     ]
    },
    {
     "name": "stdout",
     "output_type": "stream",
     "text": [
      "94.22 Mb, 86.21 Mb (8.50 %)\n"
     ]
    },
    {
     "name": "stderr",
     "output_type": "stream",
     "text": [
      " 68%|██████▊   | 21/31 [00:16<00:08,  1.20it/s]"
     ]
    },
    {
     "name": "stdout",
     "output_type": "stream",
     "text": [
      "96.89 Mb, 88.88 Mb (8.27 %)\n"
     ]
    },
    {
     "name": "stderr",
     "output_type": "stream",
     "text": [
      " 71%|███████   | 22/31 [00:17<00:07,  1.19it/s]"
     ]
    },
    {
     "name": "stdout",
     "output_type": "stream",
     "text": [
      "99.56 Mb, 91.55 Mb (8.05 %)\n"
     ]
    },
    {
     "name": "stderr",
     "output_type": "stream",
     "text": [
      " 74%|███████▍  | 23/31 [00:18<00:06,  1.19it/s]"
     ]
    },
    {
     "name": "stdout",
     "output_type": "stream",
     "text": [
      "102.23 Mb, 94.22 Mb (7.84 %)\n"
     ]
    },
    {
     "name": "stderr",
     "output_type": "stream",
     "text": [
      " 77%|███████▋  | 24/31 [00:19<00:05,  1.19it/s]"
     ]
    },
    {
     "name": "stdout",
     "output_type": "stream",
     "text": [
      "104.90 Mb, 96.89 Mb (7.64 %)\n"
     ]
    },
    {
     "name": "stderr",
     "output_type": "stream",
     "text": [
      " 81%|████████  | 25/31 [00:20<00:05,  1.17it/s]"
     ]
    },
    {
     "name": "stdout",
     "output_type": "stream",
     "text": [
      "107.57 Mb, 99.56 Mb (7.45 %)\n"
     ]
    },
    {
     "name": "stderr",
     "output_type": "stream",
     "text": [
      " 84%|████████▍ | 26/31 [00:21<00:04,  1.13it/s]"
     ]
    },
    {
     "name": "stdout",
     "output_type": "stream",
     "text": [
      "110.24 Mb, 104.90 Mb (4.84 %)\n"
     ]
    },
    {
     "name": "stderr",
     "output_type": "stream",
     "text": [
      " 87%|████████▋ | 27/31 [00:22<00:03,  1.12it/s]"
     ]
    },
    {
     "name": "stdout",
     "output_type": "stream",
     "text": [
      "115.59 Mb, 110.24 Mb (4.62 %)\n"
     ]
    },
    {
     "name": "stderr",
     "output_type": "stream",
     "text": [
      " 90%|█████████ | 28/31 [00:22<00:02,  1.12it/s]"
     ]
    },
    {
     "name": "stdout",
     "output_type": "stream",
     "text": [
      "120.93 Mb, 115.59 Mb (4.42 %)\n"
     ]
    },
    {
     "name": "stderr",
     "output_type": "stream",
     "text": [
      " 94%|█████████▎| 29/31 [00:23<00:01,  1.11it/s]"
     ]
    },
    {
     "name": "stdout",
     "output_type": "stream",
     "text": [
      "126.27 Mb, 120.93 Mb (4.23 %)\n"
     ]
    },
    {
     "name": "stderr",
     "output_type": "stream",
     "text": [
      " 97%|█████████▋| 30/31 [00:24<00:00,  1.11it/s]"
     ]
    },
    {
     "name": "stdout",
     "output_type": "stream",
     "text": [
      "131.61 Mb, 126.27 Mb (4.06 %)\n"
     ]
    },
    {
     "name": "stderr",
     "output_type": "stream",
     "text": [
      "100%|██████████| 31/31 [00:25<00:00,  1.20it/s]"
     ]
    },
    {
     "name": "stdout",
     "output_type": "stream",
     "text": [
      "136.95 Mb, 131.61 Mb (3.90 %)\n"
     ]
    },
    {
     "name": "stderr",
     "output_type": "stream",
     "text": [
      "\n"
     ]
    },
    {
     "name": "stdout",
     "output_type": "stream",
     "text": [
      "quantile_30: -0.04883117675781257\n",
      "quantile_70: 0.037139892578125\n"
     ]
    },
    {
     "name": "stderr",
     "output_type": "stream",
     "text": [
      "Warning: less than 75% gpu memory available for training. Free: 1503.75 Total: 15109.75\n",
      "AUC is not implemented on GPU. Will use CPU for metric computation, this could significantly affect learning time\n"
     ]
    },
    {
     "name": "stdout",
     "output_type": "stream",
     "text": [
      "0:\ttest: 0.0000000\tbest: 0.0000000 (0)\ttotal: 298ms\tremaining: 24m 51s\n",
      "500:\ttest: 0.0000000\tbest: 0.0000000 (0)\ttotal: 56.8s\tremaining: 8m 30s\n",
      "1000:\ttest: 0.0000000\tbest: 0.0000000 (0)\ttotal: 1m 55s\tremaining: 7m 41s\n",
      "bestTest = 0\n",
      "bestIteration = 0\n",
      "              column  importance\n",
      "0               open    0.181284\n",
      "1               high    0.470330\n",
      "2                low    0.320106\n",
      "3              close    0.525043\n",
      "4           preclose    0.164952\n",
      "5             volume    0.189094\n",
      "6             amount    1.055181\n",
      "7         adjustflag    0.000000\n",
      "8               turn    1.170418\n",
      "9        tradestatus    0.000000\n",
      "10            pctChg    0.611494\n",
      "11             peTTM    0.424130\n",
      "12             psTTM    1.108274\n",
      "13         pcfNcfTTM    1.443786\n",
      "14             pbMRQ    1.751238\n",
      "15              isST    0.058977\n",
      "16          industry    0.591237\n",
      "17         concept_0    0.889241\n",
      "18         concept_1    0.786951\n",
      "19         concept_2    0.440791\n",
      "20        concept_-3    0.399525\n",
      "21        concept_-2    0.190583\n",
      "22        concept_-1    0.204302\n",
      "23                开盘    0.146282\n",
      "24                收盘    0.039544\n",
      "25                最高    0.271372\n",
      "26                最低    0.171634\n",
      "27               涨跌幅    0.309052\n",
      "28               涨跌额    0.063072\n",
      "29               成交量    0.705612\n",
      "30               成交额    0.231280\n",
      "31                振幅    0.334984\n",
      "32               换手率    0.276708\n",
      "33              开盘_1    0.327203\n",
      "34              收盘_1    0.325198\n",
      "35              最高_1    0.260477\n",
      "36              最低_1    0.249075\n",
      "37             涨跌幅_1    0.254932\n",
      "38             涨跌额_1    0.136834\n",
      "39             成交量_1    0.821732\n",
      "40             成交额_1    0.106549\n",
      "41              振幅_1    0.557447\n",
      "42             换手率_1    0.184235\n",
      "43              开盘_2    0.069755\n",
      "44              收盘_2    0.166273\n",
      "45              最高_2    0.138108\n",
      "46              最低_2    0.249738\n",
      "47             涨跌幅_2    0.226030\n",
      "48             涨跌额_2    0.069898\n",
      "49             成交量_2    0.271990\n",
      "50             成交额_2    0.289350\n",
      "51              振幅_2    0.338227\n",
      "52             换手率_2    0.088888\n",
      "53             开盘_-3    0.198990\n",
      "54             收盘_-3    0.168695\n",
      "55             最高_-3    0.182600\n",
      "56             最低_-3    0.077386\n",
      "57            涨跌幅_-3    0.061246\n",
      "58            涨跌额_-3    0.022549\n",
      "59            成交量_-3    0.309974\n",
      "60            成交额_-3    0.190811\n",
      "61             振幅_-3    0.237980\n",
      "62            换手率_-3    0.196941\n",
      "63             开盘_-2    0.087841\n",
      "64             收盘_-2    0.234001\n",
      "65             最高_-2    0.322740\n",
      "66             最低_-2    0.051824\n",
      "67            涨跌幅_-2    0.023947\n",
      "68            涨跌额_-2    0.032527\n",
      "69            成交量_-2    0.330149\n",
      "70            成交额_-2    0.104733\n",
      "71             振幅_-2    0.132084\n",
      "72            换手率_-2    0.120418\n",
      "73             开盘_-1    0.175533\n",
      "74             收盘_-1    0.328708\n",
      "75             最高_-1    0.442902\n",
      "76             最低_-1    0.231850\n",
      "77            涨跌幅_-1    0.100265\n",
      "78            涨跌额_-1    0.014729\n",
      "79            成交量_-1    0.420850\n",
      "80            成交额_-1    0.318569\n",
      "81             振幅_-1    0.348812\n",
      "82            换手率_-1    0.118020\n",
      "83          open_dt0    0.178904\n",
      "84          open_dt1    0.120838\n",
      "85          open_dt2    0.025921\n",
      "86          open_dt3    0.069183\n",
      "87          open_dt4    0.018657\n",
      "88          open_dt5    0.113185\n",
      "89          open_dt6    0.079073\n",
      "90          open_dt7    0.029978\n",
      "91          open_dt8    0.012830\n",
      "92          open_dt9    0.050443\n",
      "93         open_dt10    0.075011\n",
      "94         open_dt11    0.133780\n",
      "95         open_dt12    0.038903\n",
      "96         open_dt13    0.088172\n",
      "97          high_dt0    0.117353\n",
      "98          high_dt1    0.032477\n",
      "99          high_dt2    0.084803\n",
      "100         high_dt3    0.063992\n",
      "101         high_dt4    0.097926\n",
      "102         high_dt5    0.057493\n",
      "103         high_dt6    0.022649\n",
      "104         high_dt7    0.020142\n",
      "105         high_dt8    0.050681\n",
      "106         high_dt9    0.048576\n",
      "107        high_dt10    0.039991\n",
      "108        high_dt11    0.081461\n",
      "109        high_dt12    0.102792\n",
      "110        high_dt13    0.219223\n",
      "111          low_dt0    0.265909\n",
      "112          low_dt1    0.086993\n",
      "113          low_dt2    0.035644\n",
      "114          low_dt3    0.054129\n",
      "115          low_dt4    0.039601\n",
      "116          low_dt5    0.033845\n",
      "117          low_dt6    0.104833\n",
      "118          low_dt7    0.030361\n",
      "119          low_dt8    0.010809\n",
      "120          low_dt9    0.042853\n",
      "121         low_dt10    0.087927\n",
      "122         low_dt11    0.027292\n",
      "123         low_dt12    0.134380\n",
      "124         low_dt13    0.302184\n",
      "125        close_dt0    0.091177\n",
      "126        close_dt1    0.091837\n",
      "127        close_dt2    0.042465\n",
      "128        close_dt3    0.048711\n",
      "129        close_dt4    0.076281\n",
      "130        close_dt5    0.027791\n",
      "131        close_dt6    0.026046\n",
      "132        close_dt7    0.068397\n",
      "133        close_dt8    0.057603\n",
      "134        close_dt9    0.015133\n",
      "135       close_dt10    0.060669\n",
      "136       close_dt11    0.118387\n",
      "137       close_dt12    0.123643\n",
      "138       close_dt13    0.389800\n",
      "139       volume_dt0    0.209438\n",
      "140       volume_dt1    0.133616\n",
      "141       volume_dt2    0.134068\n",
      "142       volume_dt3    0.064133\n",
      "143       volume_dt4    0.073460\n",
      "144       volume_dt5    0.102349\n",
      "145       volume_dt6    0.147779\n",
      "146       volume_dt7    0.112614\n",
      "147       volume_dt8    0.044814\n",
      "148       volume_dt9    0.042575\n",
      "149      volume_dt10    0.119507\n",
      "150      volume_dt11    0.162133\n",
      "151      volume_dt12    0.068102\n",
      "152      volume_dt13    0.030903\n",
      "153       amount_dt0    0.387808\n",
      "154       amount_dt1    0.290180\n",
      "155       amount_dt2    0.184355\n",
      "156       amount_dt3    0.169746\n",
      "157       amount_dt4    0.322951\n",
      "158       amount_dt5    0.327801\n",
      "159       amount_dt6    0.225028\n",
      "160       amount_dt7    0.385379\n",
      "161       amount_dt8    0.207891\n",
      "162       amount_dt9    0.178740\n",
      "163      amount_dt10    0.282100\n",
      "164      amount_dt11    0.455281\n",
      "165      amount_dt12    0.414725\n",
      "166      amount_dt13    0.813456\n",
      "167   adjustflag_dt0    0.023093\n",
      "168   adjustflag_dt1    0.000000\n",
      "169   adjustflag_dt2    0.000000\n",
      "170   adjustflag_dt3    0.000000\n",
      "171   adjustflag_dt4    0.000000\n",
      "172   adjustflag_dt5    0.000000\n",
      "173   adjustflag_dt6    0.000000\n",
      "174   adjustflag_dt7    0.000000\n",
      "175   adjustflag_dt8    0.000000\n",
      "176   adjustflag_dt9    0.000000\n",
      "177  adjustflag_dt10    0.000000\n",
      "178  adjustflag_dt11    0.000000\n",
      "179  adjustflag_dt12    0.000000\n",
      "180  adjustflag_dt13    0.000000\n",
      "181         turn_dt0    0.247154\n",
      "182         turn_dt1    0.180974\n",
      "183         turn_dt2    0.189872\n",
      "184         turn_dt3    0.169017\n",
      "185         turn_dt4    0.186640\n",
      "186         turn_dt5    0.301599\n",
      "187         turn_dt6    0.130752\n",
      "188         turn_dt7    0.168359\n",
      "189         turn_dt8    0.145748\n",
      "190         turn_dt9    0.193390\n",
      "191        turn_dt10    0.392191\n",
      "192        turn_dt11    0.304669\n",
      "193        turn_dt12    0.325182\n",
      "194        turn_dt13    0.521555\n",
      "195       pctChg_dt0    0.333809\n",
      "196       pctChg_dt1    0.324103\n",
      "197       pctChg_dt2    0.273695\n",
      "198       pctChg_dt3    0.131485\n",
      "199       pctChg_dt4    0.145973\n",
      "200       pctChg_dt5    0.138497\n",
      "201       pctChg_dt6    0.242792\n",
      "202       pctChg_dt7    0.214090\n",
      "203       pctChg_dt8    0.311159\n",
      "204       pctChg_dt9    0.340235\n",
      "205      pctChg_dt10    0.451926\n",
      "206      pctChg_dt11    0.712471\n",
      "207      pctChg_dt12    0.720908\n",
      "208      pctChg_dt13    0.228528\n",
      "209        peTTM_dt0    0.767735\n",
      "210        peTTM_dt1    0.196641\n",
      "211        peTTM_dt2    0.128729\n",
      "212        peTTM_dt3    0.091863\n",
      "213        peTTM_dt4    0.165671\n",
      "214        peTTM_dt5    0.092704\n",
      "215        peTTM_dt6    0.154212\n",
      "216        peTTM_dt7    0.137136\n",
      "217        peTTM_dt8    0.181384\n",
      "218        peTTM_dt9    0.113803\n",
      "219       peTTM_dt10    0.204600\n",
      "220       peTTM_dt11    0.170298\n",
      "221       peTTM_dt12    0.266587\n",
      "222       peTTM_dt13    0.262278\n",
      "223        psTTM_dt0    0.468242\n",
      "224        psTTM_dt1    0.209597\n",
      "225        psTTM_dt2    0.107648\n",
      "226        psTTM_dt3    0.147856\n",
      "227        psTTM_dt4    0.072767\n",
      "228        psTTM_dt5    0.009186\n",
      "229        psTTM_dt6    0.127182\n",
      "230        psTTM_dt7    0.128137\n",
      "231        psTTM_dt8    0.033893\n",
      "232        psTTM_dt9    0.132528\n",
      "233       psTTM_dt10    0.158434\n",
      "234       psTTM_dt11    0.302688\n",
      "235       psTTM_dt12    0.236841\n",
      "236       psTTM_dt13    0.507140\n",
      "237    pcfNcfTTM_dt0    1.122234\n",
      "238    pcfNcfTTM_dt1    0.292175\n",
      "239    pcfNcfTTM_dt2    0.352488\n",
      "240    pcfNcfTTM_dt3    0.327381\n",
      "241    pcfNcfTTM_dt4    0.174004\n",
      "242    pcfNcfTTM_dt5    0.289924\n",
      "243    pcfNcfTTM_dt6    0.298147\n",
      "244    pcfNcfTTM_dt7    0.225863\n",
      "245    pcfNcfTTM_dt8    0.162799\n",
      "246    pcfNcfTTM_dt9    0.161305\n",
      "247   pcfNcfTTM_dt10    0.449831\n",
      "248   pcfNcfTTM_dt11    0.291730\n",
      "249   pcfNcfTTM_dt12    0.517066\n",
      "250   pcfNcfTTM_dt13    0.534785\n",
      "251        pbMRQ_dt0    0.597139\n",
      "252        pbMRQ_dt1    0.156889\n",
      "253        pbMRQ_dt2    0.171347\n",
      "254        pbMRQ_dt3    0.114276\n",
      "255        pbMRQ_dt4    0.190454\n",
      "256        pbMRQ_dt5    0.178952\n",
      "257        pbMRQ_dt6    0.188884\n",
      "258        pbMRQ_dt7    0.146303\n",
      "259        pbMRQ_dt8    0.086964\n",
      "260        pbMRQ_dt9    0.298826\n",
      "261       pbMRQ_dt10    0.136139\n",
      "262       pbMRQ_dt11    0.335104\n",
      "263       pbMRQ_dt12    0.371045\n",
      "264       pbMRQ_dt13    0.999537\n",
      "265           收盘_dt0    0.237682\n",
      "266           收盘_dt1    0.219675\n",
      "267           收盘_dt2    0.133550\n",
      "268           收盘_dt3    0.113949\n",
      "269           收盘_dt4    0.240040\n",
      "270           收盘_dt5    0.077778\n",
      "271           收盘_dt6    0.109239\n",
      "272           收盘_dt7    0.072981\n",
      "273           收盘_dt8    0.109171\n",
      "274           收盘_dt9    0.145230\n",
      "275          收盘_dt10    0.075853\n",
      "276          收盘_dt11    0.122098\n",
      "277          收盘_dt12    0.050004\n",
      "278          收盘_dt13    0.130903\n",
      "279         收盘_1_dt0    0.454129\n",
      "280         收盘_1_dt1    0.228440\n",
      "281         收盘_1_dt2    0.118546\n",
      "282         收盘_1_dt3    0.153448\n",
      "283         收盘_1_dt4    0.226677\n",
      "284         收盘_1_dt5    0.125780\n",
      "285         收盘_1_dt6    0.111214\n",
      "286         收盘_1_dt7    0.097219\n",
      "287         收盘_1_dt8    0.092086\n",
      "288         收盘_1_dt9    0.087276\n",
      "289        收盘_1_dt10    0.189246\n",
      "290        收盘_1_dt11    0.119943\n",
      "291        收盘_1_dt12    0.124551\n",
      "292        收盘_1_dt13    0.116557\n",
      "293         收盘_2_dt0    0.419086\n",
      "294         收盘_2_dt1    0.215003\n",
      "295         收盘_2_dt2    0.092549\n",
      "296         收盘_2_dt3    0.040271\n",
      "297         收盘_2_dt4    0.057719\n",
      "298         收盘_2_dt5    0.061699\n",
      "299         收盘_2_dt6    0.099647\n",
      "300         收盘_2_dt7    0.065264\n",
      "301         收盘_2_dt8    0.112981\n",
      "302         收盘_2_dt9    0.049596\n",
      "303        收盘_2_dt10    0.115242\n",
      "304        收盘_2_dt11    0.071522\n",
      "305        收盘_2_dt12    0.079574\n",
      "306        收盘_2_dt13    0.031729\n",
      "307        收盘_-3_dt0    0.304420\n",
      "308        收盘_-3_dt1    0.264784\n",
      "309        收盘_-3_dt2    0.139505\n",
      "310        收盘_-3_dt3    0.228068\n",
      "311        收盘_-3_dt4    0.213123\n",
      "312        收盘_-3_dt5    0.094582\n",
      "313        收盘_-3_dt6    0.126729\n",
      "314        收盘_-3_dt7    0.299155\n",
      "315        收盘_-3_dt8    0.031233\n",
      "316        收盘_-3_dt9    0.022671\n",
      "317       收盘_-3_dt10    0.092034\n",
      "318       收盘_-3_dt11    0.036848\n",
      "319       收盘_-3_dt12    0.128703\n",
      "320       收盘_-3_dt13    0.088456\n",
      "321        收盘_-2_dt0    0.243166\n",
      "322        收盘_-2_dt1    0.445430\n",
      "323        收盘_-2_dt2    0.170340\n",
      "324        收盘_-2_dt3    0.119761\n",
      "325        收盘_-2_dt4    0.185760\n",
      "326        收盘_-2_dt5    0.103120\n",
      "327        收盘_-2_dt6    0.058155\n",
      "328        收盘_-2_dt7    0.141590\n",
      "329        收盘_-2_dt8    0.099920\n",
      "330        收盘_-2_dt9    0.097604\n",
      "331       收盘_-2_dt10    0.142295\n",
      "332       收盘_-2_dt11    0.153495\n",
      "333       收盘_-2_dt12    0.080223\n",
      "334       收盘_-2_dt13    0.133381\n",
      "335        收盘_-1_dt0    0.696426\n",
      "336        收盘_-1_dt1    0.460741\n",
      "337        收盘_-1_dt2    0.455790\n",
      "338        收盘_-1_dt3    0.298468\n",
      "339        收盘_-1_dt4    0.483539\n",
      "340        收盘_-1_dt5    0.628897\n",
      "341        收盘_-1_dt6    0.109361\n",
      "342        收盘_-1_dt7    0.253758\n",
      "343        收盘_-1_dt8    0.237016\n",
      "344        收盘_-1_dt9    0.207939\n",
      "345       收盘_-1_dt10    0.142678\n",
      "346       收盘_-1_dt11    0.299534\n",
      "347       收盘_-1_dt12    0.175930\n",
      "348       收盘_-1_dt13    0.252126\n",
      "349          换手率_dt0    0.290641\n",
      "350          换手率_dt1    0.116762\n",
      "351          换手率_dt2    0.154310\n",
      "352          换手率_dt3    0.203351\n",
      "353          换手率_dt4    0.141164\n",
      "354          换手率_dt5    0.253616\n",
      "355          换手率_dt6    0.271179\n",
      "356          换手率_dt7    0.184759\n",
      "357          换手率_dt8    0.144110\n",
      "358          换手率_dt9    0.151863\n",
      "359         换手率_dt10    0.189969\n",
      "360         换手率_dt11    0.197996\n",
      "361         换手率_dt12    0.164229\n",
      "362         换手率_dt13    0.071010\n",
      "363        换手率_1_dt0    0.325201\n",
      "364        换手率_1_dt1    0.160808\n",
      "365        换手率_1_dt2    0.263211\n",
      "366        换手率_1_dt3    0.272520\n",
      "367        换手率_1_dt4    0.232242\n",
      "368        换手率_1_dt5    0.161232\n",
      "369        换手率_1_dt6    0.145728\n",
      "370        换手率_1_dt7    0.119871\n",
      "371        换手率_1_dt8    0.155636\n",
      "372        换手率_1_dt9    0.114893\n",
      "373       换手率_1_dt10    0.137481\n",
      "374       换手率_1_dt11    0.153204\n",
      "375       换手率_1_dt12    0.122466\n",
      "376       换手率_1_dt13    0.023282\n",
      "377        换手率_2_dt0    0.367846\n",
      "378        换手率_2_dt1    0.086394\n",
      "379        换手率_2_dt2    0.142525\n",
      "380        换手率_2_dt3    0.047132\n",
      "381        换手率_2_dt4    0.089745\n",
      "382        换手率_2_dt5    0.113368\n",
      "383        换手率_2_dt6    0.255609\n",
      "384        换手率_2_dt7    0.134585\n",
      "385        换手率_2_dt8    0.022870\n",
      "386        换手率_2_dt9    0.100266\n",
      "387       换手率_2_dt10    0.080400\n",
      "388       换手率_2_dt11    0.095667\n",
      "389       换手率_2_dt12    0.168861\n",
      "390       换手率_2_dt13    0.110563\n",
      "391       换手率_-3_dt0    0.231495\n",
      "392       换手率_-3_dt1    0.090994\n",
      "393       换手率_-3_dt2    0.051340\n",
      "394       换手率_-3_dt3    0.079782\n",
      "395       换手率_-3_dt4    0.140826\n",
      "396       换手率_-3_dt5    0.179969\n",
      "397       换手率_-3_dt6    0.062200\n",
      "398       换手率_-3_dt7    0.107738\n",
      "399       换手率_-3_dt8    0.110482\n",
      "400       换手率_-3_dt9    0.114682\n",
      "401      换手率_-3_dt10    0.060053\n",
      "402      换手率_-3_dt11    0.125912\n",
      "403      换手率_-3_dt12    0.233366\n",
      "404      换手率_-3_dt13    0.193001\n",
      "405       换手率_-2_dt0    0.215879\n",
      "406       换手率_-2_dt1    0.253495\n",
      "407       换手率_-2_dt2    0.216890\n",
      "408       换手率_-2_dt3    0.323654\n",
      "409       换手率_-2_dt4    0.104286\n",
      "410       换手率_-2_dt5    0.043401\n",
      "411       换手率_-2_dt6    0.059459\n",
      "412       换手率_-2_dt7    0.114273\n",
      "413       换手率_-2_dt8    0.066977\n",
      "414       换手率_-2_dt9    0.044437\n",
      "415      换手率_-2_dt10    0.093002\n",
      "416      换手率_-2_dt11    0.147979\n",
      "417      换手率_-2_dt12    0.099394\n",
      "418      换手率_-2_dt13    0.170721\n",
      "419       换手率_-1_dt0    0.434755\n",
      "420       换手率_-1_dt1    0.170662\n",
      "421       换手率_-1_dt2    0.323984\n",
      "422       换手率_-1_dt3    0.324820\n",
      "423       换手率_-1_dt4    0.447076\n",
      "424       换手率_-1_dt5    0.304373\n",
      "425       换手率_-1_dt6    0.244819\n",
      "426       换手率_-1_dt7    0.219226\n",
      "427       换手率_-1_dt8    0.120901\n",
      "428       换手率_-1_dt9    0.141378\n",
      "429      换手率_-1_dt10    0.037112\n",
      "430      换手率_-1_dt11    0.113889\n",
      "431      换手率_-1_dt12    0.119643\n",
      "432      换手率_-1_dt13    0.086379\n",
      "433          成交额_dt0    0.101654\n",
      "434          成交额_dt1    0.126975\n",
      "435          成交额_dt2    0.056428\n",
      "436          成交额_dt3    0.042788\n",
      "437          成交额_dt4    0.086006\n",
      "438          成交额_dt5    0.140539\n",
      "439          成交额_dt6    0.088086\n",
      "440          成交额_dt7    0.132779\n",
      "441          成交额_dt8    0.031659\n",
      "442          成交额_dt9    0.141754\n",
      "443         成交额_dt10    0.145484\n",
      "444         成交额_dt11    0.128857\n",
      "445         成交额_dt12    0.118624\n",
      "446         成交额_dt13    0.169637\n",
      "447        成交额_1_dt0    0.266451\n",
      "448        成交额_1_dt1    0.077723\n",
      "449        成交额_1_dt2    0.142240\n",
      "450        成交额_1_dt3    0.042899\n",
      "451        成交额_1_dt4    0.187943\n",
      "452        成交额_1_dt5    0.113593\n",
      "453        成交额_1_dt6    0.064645\n",
      "454        成交额_1_dt7    0.129258\n",
      "455        成交额_1_dt8    0.071704\n",
      "456        成交额_1_dt9    0.082148\n",
      "457       成交额_1_dt10    0.087544\n",
      "458       成交额_1_dt11    0.048813\n",
      "459       成交额_1_dt12    0.088346\n",
      "460       成交额_1_dt13    0.059947\n",
      "461        成交额_2_dt0    0.201599\n",
      "462        成交额_2_dt1    0.056867\n",
      "463        成交额_2_dt2    0.180388\n",
      "464        成交额_2_dt3    0.085943\n",
      "465        成交额_2_dt4    0.067407\n",
      "466        成交额_2_dt5    0.124431\n",
      "467        成交额_2_dt6    0.056854\n",
      "468        成交额_2_dt7    0.041343\n",
      "469        成交额_2_dt8    0.124123\n",
      "470        成交额_2_dt9    0.047250\n",
      "471       成交额_2_dt10    0.053064\n",
      "472       成交额_2_dt11    0.097014\n",
      "473       成交额_2_dt12    0.232001\n",
      "474       成交额_2_dt13    0.085158\n",
      "475       成交额_-3_dt0    0.121614\n",
      "476       成交额_-3_dt1    0.170195\n",
      "477       成交额_-3_dt2    0.139754\n",
      "478       成交额_-3_dt3    0.171996\n",
      "479       成交额_-3_dt4    0.117612\n",
      "480       成交额_-3_dt5    0.033112\n",
      "481       成交额_-3_dt6    0.081204\n",
      "482       成交额_-3_dt7    0.088771\n",
      "483       成交额_-3_dt8    0.010263\n",
      "484       成交额_-3_dt9    0.072326\n",
      "485      成交额_-3_dt10    0.237586\n",
      "486      成交额_-3_dt11    0.352306\n",
      "487      成交额_-3_dt12    0.271573\n",
      "488      成交额_-3_dt13    0.104699\n",
      "489       成交额_-2_dt0    0.180174\n",
      "490       成交额_-2_dt1    0.166421\n",
      "491       成交额_-2_dt2    0.090324\n",
      "492       成交额_-2_dt3    0.031760\n",
      "493       成交额_-2_dt4    0.091772\n",
      "494       成交额_-2_dt5    0.058644\n",
      "495       成交额_-2_dt6    0.040006\n",
      "496       成交额_-2_dt7    0.026100\n",
      "497       成交额_-2_dt8    0.077658\n",
      "498       成交额_-2_dt9    0.098016\n",
      "499      成交额_-2_dt10    0.045579\n",
      "500      成交额_-2_dt11    0.153036\n",
      "501      成交额_-2_dt12    0.333307\n",
      "502      成交额_-2_dt13    0.089313\n",
      "503       成交额_-1_dt0    0.549443\n",
      "504       成交额_-1_dt1    0.616668\n",
      "505       成交额_-1_dt2    0.236557\n",
      "506       成交额_-1_dt3    0.137479\n",
      "507       成交额_-1_dt4    0.460992\n",
      "508       成交额_-1_dt5    0.496358\n",
      "509       成交额_-1_dt6    0.294313\n",
      "510       成交额_-1_dt7    0.200136\n",
      "511       成交额_-1_dt8    0.166326\n",
      "512       成交额_-1_dt9    0.200078\n",
      "513      成交额_-1_dt10    0.130595\n",
      "514      成交额_-1_dt11    0.193021\n",
      "515      成交额_-1_dt12    0.379425\n",
      "516      成交额_-1_dt13    0.246947\n"
     ]
    }
   ],
   "source": [
    "#!/usr/bin/env python\n",
    "# coding: utf-8\n",
    "\n",
    "# In[1]:\n",
    "\n",
    "\n",
    "from get_stock_data import Downloader, mkdir\n",
    "import os\n",
    "import argparse\n",
    "from tqdm import tqdm\n",
    "import pandas as pd\n",
    "import numpy as np\n",
    "import catboost as cb\n",
    "import datetime\n",
    "import functools\n",
    "from collections import defaultdict, Counter\n",
    "\n",
    "from utils import reduce_mem\n",
    "\n",
    "\n",
    "# 使用该股对应的板块的open close等，作为特征\n",
    "def concept_feature(data):\n",
    "    print('Begin concept feature')\n",
    "    data.code = data.code.apply(lambda x:int(x[3:]))\n",
    "    data.date = data.date.apply(lambda x: int(x.replace('-', '')))\n",
    "    concept_df = pd.read_csv(params.concept_path)[['代码', '板块名称']]\n",
    "    concept_hist_df = pd.read_csv(params.concept_hist_path)\n",
    "    concept_df['代码'] = concept_df['代码'].apply(lambda x:str(x).zfill(6))\n",
    "    \n",
    "    concept_hist_df['日期'] = concept_hist_df['日期'].apply(lambda x:int(x.replace('-', '')))\n",
    "    \n",
    "    concept_counter = Counter([c for c in concept_df['板块名称'].values if '昨日' not in c])\n",
    "\n",
    "    concept_dic = defaultdict(list)\n",
    "    for code, concept in concept_df.values:\n",
    "        if '昨日' in concept:continue\n",
    "        concept_dic[int(code)].append(concept)\n",
    "\n",
    "    def compare_concept(x, y):\n",
    "        x, y = concept_counter[x], concept_counter[y]\n",
    "        if x < y:return -1\n",
    "        if x > y: return 1\n",
    "        return 0\n",
    "    for k, v in concept_dic.items():\n",
    "        concept_dic[k] = sorted(v, key=functools.cmp_to_key(compare_concept))\n",
    "\n",
    "    data['concept_0'] = data.code.apply(lambda x:concept_dic[int(x)][0] if len(concept_dic[x])>0 else np.nan)\n",
    "    data['concept_1'] = data.code.apply(lambda x:concept_dic[int(x)][1] if len(concept_dic[x])>1 else np.nan)\n",
    "    data['concept_2'] = data.code.apply(lambda x:concept_dic[int(x)][2] if len(concept_dic[x])>2 else np.nan)\n",
    "\n",
    "    data['concept_-3'] = data.code.apply(lambda x:concept_dic[int(x)][-3] if len(concept_dic[x])>3 else np.nan)\n",
    "    data['concept_-2'] = data.code.apply(lambda x:concept_dic[int(x)][-2] if len(concept_dic[x])>4 else np.nan)\n",
    "    data['concept_-1'] = data.code.apply(lambda x:concept_dic[int(x)][-1] if len(concept_dic[x])>5 else np.nan)\n",
    "    \n",
    "    data = pd.merge(data, concept_hist_df, left_on=['date', 'concept_0'], right_on=['日期', '板块名称'], how='left')\n",
    "    data = pd.merge(data, concept_hist_df, left_on=['date', 'concept_1'], right_on=['日期', '板块名称'], how='left', suffixes=(None, '_1'))\n",
    "    data = pd.merge(data, concept_hist_df, left_on=['date', 'concept_2'], right_on=['日期', '板块名称'], how='left', suffixes=(None, '_2'))\n",
    "    data = pd.merge(data, concept_hist_df, left_on=['date', 'concept_-3'], right_on=['日期', '板块名称'], how='left', suffixes=(None, '_-3'))\n",
    "    data = pd.merge(data, concept_hist_df, left_on=['date', 'concept_-2'], right_on=['日期', '板块名称'], how='left', suffixes=(None, '_-2'))\n",
    "    data = pd.merge(data, concept_hist_df, left_on=['date', 'concept_-1'], right_on=['日期', '板块名称'], how='left', suffixes=(None, '_-1'))\n",
    "    \n",
    "    \n",
    "    # label encoder\n",
    "    concept_labelencoder = {c:i for i, c in enumerate(np.unique(concept_df['板块名称'].values))}\n",
    "    concept_labelencoder.update({np.nan:np.nan})\n",
    "    data['concept_0'] = data['concept_0'].apply(lambda x:concept_labelencoder[x])\n",
    "    data['concept_1'] = data['concept_1'].apply(lambda x:concept_labelencoder[x])\n",
    "    data['concept_2'] = data['concept_2'].apply(lambda x:concept_labelencoder[x])\n",
    "    \n",
    "    data['concept_-3'] = data['concept_-3'].apply(lambda x:concept_labelencoder[x])\n",
    "    data['concept_-2'] = data['concept_-2'].apply(lambda x:concept_labelencoder[x])\n",
    "    data['concept_-1'] = data['concept_-1'].apply(lambda x:concept_labelencoder[x])\n",
    "    return data\n",
    "\n",
    "def feature_engineer(data, window_size):\n",
    "    data = data.sort_values(by=['code', 'date'])\n",
    "    alpha_list = ['open', 'high', 'low', 'close', 'volume', 'amount', 'adjustflag', 'turn', 'pctChg', 'peTTM', 'psTTM', 'pcfNcfTTM', 'pbMRQ']\n",
    "    \n",
    "    stock_industry = pd.read_csv(params.industry_path, encoding=\"gbk\")\n",
    "#     stock_industry.code = stock_industry.code.apply(lambda x:int(x[3:]))s\n",
    "    \n",
    "    from sklearn.preprocessing import LabelEncoder\n",
    "    lbe = LabelEncoder()\n",
    "    stock_industry['industry'] = lbe.fit_transform(stock_industry['industry'])\n",
    "    data = pd.merge(data, stock_industry[['code', 'industry']], how='left', on='code')\n",
    "    \n",
    "    # concept feature\n",
    "    data = concept_feature(data)\n",
    "    alpha_list += [f'{x}{i}' for x in ['收盘', '换手率', '成交额'] for i in ['', '_1', '_2', '_-3', '_-2', '_-1']]\n",
    "    data = reduce_mem(data, list(data))\n",
    "\n",
    "    # alpha net\n",
    "    length = window_size\n",
    "    \n",
    "    \n",
    "    for name in tqdm(alpha_list):\n",
    "#     for name in tqdm(['open']):\n",
    "        roll_feature = []\n",
    "        for i, group in data.groupby('code', sort=False)[name]:\n",
    "            values = group.tolist()\n",
    "            values = [0]*(length - 1) + values\n",
    "            roll_feature = roll_feature + [values[i:i+length] for i in range(len(group))]\n",
    "        roll_columns = [f'{name}_dt{i}' for i in range(length)]\n",
    "        data = pd.concat([data, pd.DataFrame(roll_feature, columns=roll_columns)], axis=1).reset_index(drop=True)\n",
    "        data = reduce_mem(data, roll_columns)\n",
    "    \n",
    "    # generate label\n",
    "    data['label'] = data.groupby('code', sort=False).close.transform(lambda x:(x.shift(-14) - x) / (x + 1e-7) )\n",
    "#     data = data.dropna(subset = ['label'], inplace=False)\n",
    "#     data = data.replace(np.nan, 0)\n",
    "    train, test = data[data['date'] <= params.date_split].reset_index(drop=True), data[data['date'] == params.date_split].reset_index(drop=True)\n",
    "    train = train.dropna(subset = ['label'], inplace=False)\n",
    "    return train, test\n",
    "\n",
    "def update_dataset():\n",
    "#     downloader = Downloader(params.raw_train_path, \n",
    "#                             date_start=params.date_start, # start和 end都包含\n",
    "#                             date_end=params.date_end, \n",
    "#                             frequency='d',\n",
    "#                             header=False,\n",
    "#                             mode='all')\n",
    "#     downloader.run()\n",
    "\n",
    "    def df_concat(csv_path):\n",
    "        df_arr = []\n",
    "        for file_path in tqdm(os.listdir(csv_path)):\n",
    "            try:\n",
    "                if file_path.split('.') != 'csv':pass\n",
    "                temp = pd.read_csv(csv_path + '/' + file_path, engine='python')\n",
    "                temp['intDate'] = temp.date.apply(lambda x: int(x.replace('-', '')))\n",
    "                temp = temp[temp['intDate'] >= params.date_abandon].reset_index(drop=True)\n",
    "                if len(temp)==0:continue\n",
    "                df_arr.append(temp)\n",
    "            except:\n",
    "                pass\n",
    "        return pd.concat(df_arr)\n",
    "\n",
    "\n",
    "    train = df_concat(params.raw_train_path)\n",
    "    train = train.drop('intDate', axis=1)\n",
    "    assert params.date_end in train.date.unique()\n",
    "    train.to_csv(params.train_path, index=False)\n",
    "    return\n",
    "\n",
    "def preprocess():\n",
    "    mode = params.mode\n",
    "    if mode == 'debug':\n",
    "        data = pd.read_csv(params.train_path, nrows=100000)\n",
    "    else:\n",
    "        data = pd.read_csv(params.train_path)\n",
    "\n",
    "#     data.date = data.date.apply(lambda x: int(x.replace('-', '')))\n",
    "#     data.code = data.code.apply(lambda x:x[3:])\n",
    "#     data = data[data['date'] >= params.date_abandon].reset_index(drop=True)\n",
    "    return data\n",
    "\n",
    "def train_model(train, test):\n",
    "    ycol = 'label'\n",
    "    feature_names = list(\n",
    "        filter(lambda x: x not in [ycol, 'code', 'date', ''] and '日期' not in x and '板块名称' not in x, train.columns))\n",
    "\n",
    "    # print(feature_names)\n",
    "\n",
    "    quantile_30, quantile_70 = train.label.quantile([0.3, 0.7]).values\n",
    "    print('quantile_30:', quantile_30)\n",
    "    print('quantile_70:', quantile_70)\n",
    "    def label_quantile(x):\n",
    "        if x<quantile_30:return 0\n",
    "        elif x<quantile_70:return 1\n",
    "        else:return 2\n",
    "\n",
    "    train.label = train.label.apply(label_quantile)\n",
    "    test.label = test.label.apply(label_quantile)\n",
    "    X_train = train[feature_names];Y_train = train[ycol]\n",
    "    X_val = test[feature_names];Y_val = test[ycol]\n",
    "\n",
    "    model = cb.CatBoostClassifier(eval_metric=\"AUC\", task_type='GPU', **params.model_params)\n",
    "    cat_model = model.fit(X_train,\n",
    "                          Y_train,\n",
    "                          eval_set=(X_val, Y_val),\n",
    "                          verbose=500)\n",
    "\n",
    "    df_importance = pd.DataFrame({\n",
    "        'column': feature_names,\n",
    "        'importance': cat_model.feature_importances_,\n",
    "    })\n",
    "\n",
    "    # cat_model.save_model(f'cb_{frequency}.model')\n",
    "\n",
    "    pd.set_option('display.max_rows', None)\n",
    "    print(df_importance)\n",
    "    cat_model.save_model(f'model/concept_{params.window_size}_debug.model')\n",
    "    \n",
    "    # prediction and save\n",
    "    prediction = cat_model.predict_proba(X_val)\n",
    "    test['label_-1'] = prediction[:,0]\n",
    "    test['label_0'] = prediction[:,1]\n",
    "    test['label_1'] = prediction[:,2]\n",
    "    test.to_csv(params.submit_path, index=False)\n",
    "\n",
    "def main():\n",
    "    # 获取全部股票的日K线数据\n",
    "    mkdir('stockdata/d_data')\n",
    "    \n",
    "    # update dataset to today\n",
    "    update_dataset()\n",
    "\n",
    "    # preprocess \n",
    "    data = preprocess()\n",
    "\n",
    "    # feature engineer\n",
    "    train, test = feature_engineer(data, params.window_size)\n",
    "    \n",
    "    # train model\n",
    "    train_model(train, test)\n",
    "\n",
    "class params:\n",
    "    mode = 'debug'\n",
    "    window_size = 14\n",
    "    \n",
    "    date_abandon = 20210101\n",
    "    date_split = 20221111\n",
    "    date_start = '2022-06-02'\n",
    "    date_end = '2022-11-11' # 不能选择今天的日期，周末的日期\n",
    "    \n",
    "    raw_train_path = 'stockdata/d_train'\n",
    "    raw_test_path = 'stockdata/d_test'\n",
    "    train_path = 'stockdata/d_data/train.csv'\n",
    "    test_path = 'stockdata/d_data/test.csv'\n",
    "    industry_path = 'stockdata/stock_industry.csv'\n",
    "    concept_path = 'stockdata/concept_df.csv'\n",
    "    concept_hist_path = 'stockdata/concept_hist_df.csv'\n",
    "    submit_path = f'submit/{date_end}.csv'    \n",
    "    \n",
    "    model_params = {'n_estimators':5000,\n",
    "          'learning_rate': 0.05,\n",
    "          'max_depth': 7,\n",
    "          'early_stopping_rounds':1000,\n",
    "          'loss_function':'MultiClass',\n",
    "           'classes_count':3,\n",
    "          'max_bin':512,\n",
    "          'subsample':0.8,\n",
    "          'bootstrap_type':'Poisson',\n",
    "          'random_seed':np.random.randint(0,2021)}\n",
    "    \n",
    "    \n",
    "if __name__ == '__main__':\n",
    "    main()"
   ]
  },
  {
   "cell_type": "code",
   "execution_count": null,
   "id": "2f0fe520-48ba-4d96-b504-f7e75c544377",
   "metadata": {},
   "outputs": [],
   "source": [
    "## 需要预测未来的股价涨跌百分比排行"
   ]
  },
  {
   "cell_type": "code",
   "execution_count": null,
   "id": "5dea835c-d9cf-43ea-af9b-c4b4692a93b3",
   "metadata": {},
   "outputs": [],
   "source": []
  }
 ],
 "metadata": {
  "kernelspec": {
   "display_name": "Python 3",
   "language": "python",
   "name": "python3"
  },
  "language_info": {
   "codemirror_mode": {
    "name": "ipython",
    "version": 3
   },
   "file_extension": ".py",
   "mimetype": "text/x-python",
   "name": "python",
   "nbconvert_exporter": "python",
   "pygments_lexer": "ipython3",
   "version": "3.7.1"
  }
 },
 "nbformat": 4,
 "nbformat_minor": 5
}
