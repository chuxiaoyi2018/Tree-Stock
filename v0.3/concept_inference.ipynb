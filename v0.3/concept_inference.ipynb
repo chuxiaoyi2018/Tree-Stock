{
 "cells": [
  {
   "cell_type": "code",
   "execution_count": 3,
   "id": "4d64ed01-73df-4031-b1a0-b2ec3f60a858",
   "metadata": {},
   "outputs": [
    {
     "name": "stdout",
     "output_type": "stream",
     "text": [
      "Begin concept feature\n"
     ]
    },
    {
     "name": "stderr",
     "output_type": "stream",
     "text": [
      "  0%|          | 0/31 [00:00<?, ?it/s]"
     ]
    },
    {
     "name": "stdout",
     "output_type": "stream",
     "text": [
      "74.77 Mb, 26.89 Mb (64.03 %)\n"
     ]
    },
    {
     "name": "stderr",
     "output_type": "stream",
     "text": [
      "  3%|▎         | 1/31 [00:00<00:23,  1.29it/s]"
     ]
    },
    {
     "name": "stdout",
     "output_type": "stream",
     "text": [
      "36.81 Mb, 28.80 Mb (21.76 %)\n"
     ]
    },
    {
     "name": "stderr",
     "output_type": "stream",
     "text": [
      "  6%|▋         | 2/31 [00:01<00:20,  1.43it/s]"
     ]
    },
    {
     "name": "stdout",
     "output_type": "stream",
     "text": [
      "39.48 Mb, 31.47 Mb (20.29 %)\n"
     ]
    },
    {
     "name": "stderr",
     "output_type": "stream",
     "text": [
      " 10%|▉         | 3/31 [00:02<00:18,  1.48it/s]"
     ]
    },
    {
     "name": "stdout",
     "output_type": "stream",
     "text": [
      "42.15 Mb, 34.14 Mb (19.00 %)\n"
     ]
    },
    {
     "name": "stderr",
     "output_type": "stream",
     "text": [
      " 13%|█▎        | 4/31 [00:02<00:18,  1.50it/s]"
     ]
    },
    {
     "name": "stdout",
     "output_type": "stream",
     "text": [
      "44.82 Mb, 36.81 Mb (17.87 %)\n"
     ]
    },
    {
     "name": "stderr",
     "output_type": "stream",
     "text": [
      " 16%|█▌        | 5/31 [00:03<00:17,  1.53it/s]"
     ]
    },
    {
     "name": "stdout",
     "output_type": "stream",
     "text": [
      "47.49 Mb, 42.15 Mb (11.24 %)\n"
     ]
    },
    {
     "name": "stderr",
     "output_type": "stream",
     "text": [
      " 19%|█▉        | 6/31 [00:04<00:16,  1.53it/s]"
     ]
    },
    {
     "name": "stdout",
     "output_type": "stream",
     "text": [
      "52.83 Mb, 47.49 Mb (10.11 %)\n"
     ]
    },
    {
     "name": "stderr",
     "output_type": "stream",
     "text": [
      " 23%|██▎       | 7/31 [00:04<00:17,  1.41it/s]"
     ]
    },
    {
     "name": "stdout",
     "output_type": "stream",
     "text": [
      "58.17 Mb, 48.83 Mb (16.07 %)\n"
     ]
    },
    {
     "name": "stderr",
     "output_type": "stream",
     "text": [
      " 26%|██▌       | 8/31 [00:05<00:16,  1.38it/s]"
     ]
    },
    {
     "name": "stdout",
     "output_type": "stream",
     "text": [
      "59.51 Mb, 51.50 Mb (13.46 %)\n"
     ]
    },
    {
     "name": "stderr",
     "output_type": "stream",
     "text": [
      " 29%|██▉       | 9/31 [00:06<00:16,  1.35it/s]"
     ]
    },
    {
     "name": "stdout",
     "output_type": "stream",
     "text": [
      "62.18 Mb, 54.17 Mb (12.88 %)\n"
     ]
    },
    {
     "name": "stderr",
     "output_type": "stream",
     "text": [
      " 32%|███▏      | 10/31 [00:07<00:15,  1.39it/s]"
     ]
    },
    {
     "name": "stdout",
     "output_type": "stream",
     "text": [
      "64.85 Mb, 56.84 Mb (12.35 %)\n"
     ]
    },
    {
     "name": "stderr",
     "output_type": "stream",
     "text": [
      " 35%|███▌      | 11/31 [00:07<00:14,  1.41it/s]"
     ]
    },
    {
     "name": "stdout",
     "output_type": "stream",
     "text": [
      "67.52 Mb, 59.51 Mb (11.86 %)\n"
     ]
    },
    {
     "name": "stderr",
     "output_type": "stream",
     "text": [
      " 39%|███▊      | 12/31 [00:08<00:13,  1.43it/s]"
     ]
    },
    {
     "name": "stdout",
     "output_type": "stream",
     "text": [
      "70.19 Mb, 64.85 Mb (7.61 %)\n"
     ]
    },
    {
     "name": "stderr",
     "output_type": "stream",
     "text": [
      " 42%|████▏     | 13/31 [00:09<00:12,  1.43it/s]"
     ]
    },
    {
     "name": "stdout",
     "output_type": "stream",
     "text": [
      "75.53 Mb, 67.52 Mb (10.61 %)\n"
     ]
    },
    {
     "name": "stderr",
     "output_type": "stream",
     "text": [
      " 45%|████▌     | 14/31 [00:09<00:11,  1.43it/s]"
     ]
    },
    {
     "name": "stdout",
     "output_type": "stream",
     "text": [
      "78.20 Mb, 70.19 Mb (10.24 %)\n"
     ]
    },
    {
     "name": "stderr",
     "output_type": "stream",
     "text": [
      " 48%|████▊     | 15/31 [00:10<00:11,  1.43it/s]"
     ]
    },
    {
     "name": "stdout",
     "output_type": "stream",
     "text": [
      "80.87 Mb, 72.86 Mb (9.91 %)\n"
     ]
    },
    {
     "name": "stderr",
     "output_type": "stream",
     "text": [
      " 52%|█████▏    | 16/31 [00:11<00:10,  1.42it/s]"
     ]
    },
    {
     "name": "stdout",
     "output_type": "stream",
     "text": [
      "83.54 Mb, 75.53 Mb (9.59 %)\n"
     ]
    },
    {
     "name": "stderr",
     "output_type": "stream",
     "text": [
      " 55%|█████▍    | 17/31 [00:11<00:09,  1.41it/s]"
     ]
    },
    {
     "name": "stdout",
     "output_type": "stream",
     "text": [
      "86.21 Mb, 78.20 Mb (9.29 %)\n"
     ]
    },
    {
     "name": "stderr",
     "output_type": "stream",
     "text": [
      " 58%|█████▊    | 18/31 [00:12<00:09,  1.37it/s]"
     ]
    },
    {
     "name": "stdout",
     "output_type": "stream",
     "text": [
      "88.88 Mb, 80.87 Mb (9.01 %)\n"
     ]
    },
    {
     "name": "stderr",
     "output_type": "stream",
     "text": [
      " 61%|██████▏   | 19/31 [00:13<00:08,  1.37it/s]"
     ]
    },
    {
     "name": "stdout",
     "output_type": "stream",
     "text": [
      "91.55 Mb, 83.54 Mb (8.75 %)\n"
     ]
    },
    {
     "name": "stderr",
     "output_type": "stream",
     "text": [
      " 65%|██████▍   | 20/31 [00:14<00:08,  1.34it/s]"
     ]
    },
    {
     "name": "stdout",
     "output_type": "stream",
     "text": [
      "94.22 Mb, 86.21 Mb (8.50 %)\n"
     ]
    },
    {
     "name": "stderr",
     "output_type": "stream",
     "text": [
      " 68%|██████▊   | 21/31 [00:14<00:07,  1.34it/s]"
     ]
    },
    {
     "name": "stdout",
     "output_type": "stream",
     "text": [
      "96.89 Mb, 88.88 Mb (8.27 %)\n"
     ]
    },
    {
     "name": "stderr",
     "output_type": "stream",
     "text": [
      " 71%|███████   | 22/31 [00:15<00:06,  1.35it/s]"
     ]
    },
    {
     "name": "stdout",
     "output_type": "stream",
     "text": [
      "99.56 Mb, 91.55 Mb (8.05 %)\n"
     ]
    },
    {
     "name": "stderr",
     "output_type": "stream",
     "text": [
      " 74%|███████▍  | 23/31 [00:16<00:05,  1.35it/s]"
     ]
    },
    {
     "name": "stdout",
     "output_type": "stream",
     "text": [
      "102.23 Mb, 94.22 Mb (7.84 %)\n"
     ]
    },
    {
     "name": "stderr",
     "output_type": "stream",
     "text": [
      " 77%|███████▋  | 24/31 [00:17<00:05,  1.33it/s]"
     ]
    },
    {
     "name": "stdout",
     "output_type": "stream",
     "text": [
      "104.90 Mb, 96.89 Mb (7.64 %)\n"
     ]
    },
    {
     "name": "stderr",
     "output_type": "stream",
     "text": [
      " 81%|████████  | 25/31 [00:18<00:04,  1.28it/s]"
     ]
    },
    {
     "name": "stdout",
     "output_type": "stream",
     "text": [
      "107.57 Mb, 99.56 Mb (7.45 %)\n"
     ]
    },
    {
     "name": "stderr",
     "output_type": "stream",
     "text": [
      " 84%|████████▍ | 26/31 [00:18<00:03,  1.28it/s]"
     ]
    },
    {
     "name": "stdout",
     "output_type": "stream",
     "text": [
      "110.24 Mb, 104.90 Mb (4.84 %)\n"
     ]
    },
    {
     "name": "stderr",
     "output_type": "stream",
     "text": [
      " 87%|████████▋ | 27/31 [00:19<00:03,  1.29it/s]"
     ]
    },
    {
     "name": "stdout",
     "output_type": "stream",
     "text": [
      "115.59 Mb, 110.24 Mb (4.62 %)\n"
     ]
    },
    {
     "name": "stderr",
     "output_type": "stream",
     "text": [
      " 90%|█████████ | 28/31 [00:20<00:02,  1.28it/s]"
     ]
    },
    {
     "name": "stdout",
     "output_type": "stream",
     "text": [
      "120.93 Mb, 115.59 Mb (4.42 %)\n"
     ]
    },
    {
     "name": "stderr",
     "output_type": "stream",
     "text": [
      " 94%|█████████▎| 29/31 [00:21<00:01,  1.26it/s]"
     ]
    },
    {
     "name": "stdout",
     "output_type": "stream",
     "text": [
      "126.27 Mb, 120.93 Mb (4.23 %)\n"
     ]
    },
    {
     "name": "stderr",
     "output_type": "stream",
     "text": [
      " 97%|█████████▋| 30/31 [00:22<00:00,  1.25it/s]"
     ]
    },
    {
     "name": "stdout",
     "output_type": "stream",
     "text": [
      "131.61 Mb, 126.27 Mb (4.06 %)\n"
     ]
    },
    {
     "name": "stderr",
     "output_type": "stream",
     "text": [
      "100%|██████████| 31/31 [00:22<00:00,  1.36it/s]"
     ]
    },
    {
     "name": "stdout",
     "output_type": "stream",
     "text": [
      "136.95 Mb, 131.61 Mb (3.90 %)\n"
     ]
    },
    {
     "name": "stderr",
     "output_type": "stream",
     "text": [
      "\n"
     ]
    },
    {
     "name": "stdout",
     "output_type": "stream",
     "text": [
      "quantile_30: -0.04883117675781257\n",
      "quantile_70: 0.037139892578125\n"
     ]
    },
    {
     "name": "stderr",
     "output_type": "stream",
     "text": [
      "Warning: less than 75% gpu memory available for training. Free: 4887.75 Total: 15109.75\n",
      "AUC is not implemented on GPU. Will use CPU for metric computation, this could significantly affect learning time\n"
     ]
    },
    {
     "name": "stdout",
     "output_type": "stream",
     "text": [
      "0:\ttest: 0.0000000\tbest: 0.0000000 (0)\ttotal: 192ms\tremaining: 16m\n",
      "500:\ttest: 0.0000000\tbest: 0.0000000 (0)\ttotal: 40.2s\tremaining: 6m\n",
      "1000:\ttest: 0.0000000\tbest: 0.0000000 (0)\ttotal: 1m 19s\tremaining: 5m 17s\n",
      "bestTest = 0\n",
      "bestIteration = 0\n",
      "              column  importance\n",
      "0               open    0.172851\n",
      "1               high    0.407215\n",
      "2                low    0.191159\n",
      "3              close    0.471232\n",
      "4           preclose    0.182935\n",
      "5             volume    0.179168\n",
      "6             amount    1.175502\n",
      "7         adjustflag    0.000000\n",
      "8               turn    1.064915\n",
      "9        tradestatus    0.000000\n",
      "10            pctChg    0.611603\n",
      "11             peTTM    0.590218\n",
      "12             psTTM    0.773675\n",
      "13         pcfNcfTTM    1.241107\n",
      "14             pbMRQ    1.223850\n",
      "15              isST    0.048746\n",
      "16          industry    0.681678\n",
      "17         concept_0    0.993355\n",
      "18         concept_1    0.821528\n",
      "19         concept_2    0.308214\n",
      "20        concept_-3    0.375083\n",
      "21        concept_-2    0.244870\n",
      "22        concept_-1    0.384397\n",
      "23                开盘    0.086247\n",
      "24                收盘    0.133463\n",
      "25                最高    0.243064\n",
      "26                最低    0.262672\n",
      "27               涨跌幅    0.462727\n",
      "28               涨跌额    0.064792\n",
      "29               成交量    0.735148\n",
      "30               成交额    0.272073\n",
      "31                振幅    0.408944\n",
      "32               换手率    0.157508\n",
      "33              开盘_1    0.231316\n",
      "34              收盘_1    0.098412\n",
      "35              最高_1    0.379698\n",
      "36              最低_1    0.233064\n",
      "37             涨跌幅_1    0.271058\n",
      "38             涨跌额_1    0.038239\n",
      "39             成交量_1    0.845693\n",
      "40             成交额_1    0.165619\n",
      "41              振幅_1    0.581412\n",
      "42             换手率_1    0.110716\n",
      "43              开盘_2    0.206380\n",
      "44              收盘_2    0.176779\n",
      "45              最高_2    0.064683\n",
      "46              最低_2    0.180608\n",
      "47             涨跌幅_2    0.276508\n",
      "48             涨跌额_2    0.090069\n",
      "49             成交量_2    0.392307\n",
      "50             成交额_2    0.153314\n",
      "51              振幅_2    0.393813\n",
      "52             换手率_2    0.164906\n",
      "53             开盘_-3    0.128593\n",
      "54             收盘_-3    0.041454\n",
      "55             最高_-3    0.191939\n",
      "56             最低_-3    0.115898\n",
      "57            涨跌幅_-3    0.048905\n",
      "58            涨跌额_-3    0.032114\n",
      "59            成交量_-3    0.328943\n",
      "60            成交额_-3    0.236600\n",
      "61             振幅_-3    0.242961\n",
      "62            换手率_-3    0.187400\n",
      "63             开盘_-2    0.087036\n",
      "64             收盘_-2    0.183910\n",
      "65             最高_-2    0.127942\n",
      "66             最低_-2    0.096586\n",
      "67            涨跌幅_-2    0.040462\n",
      "68            涨跌额_-2    0.009884\n",
      "69            成交量_-2    0.341958\n",
      "70            成交额_-2    0.271857\n",
      "71             振幅_-2    0.119217\n",
      "72            换手率_-2    0.151011\n",
      "73             开盘_-1    0.231262\n",
      "74             收盘_-1    0.365154\n",
      "75             最高_-1    0.400664\n",
      "76             最低_-1    0.152452\n",
      "77            涨跌幅_-1    0.084171\n",
      "78            涨跌额_-1    0.027187\n",
      "79            成交量_-1    0.431990\n",
      "80            成交额_-1    0.236882\n",
      "81             振幅_-1    0.383683\n",
      "82            换手率_-1    0.110768\n",
      "83          open_dt0    0.244144\n",
      "84          open_dt1    0.055116\n",
      "85          open_dt2    0.058469\n",
      "86          open_dt3    0.136104\n",
      "87          open_dt4    0.050793\n",
      "88          open_dt5    0.032163\n",
      "89          open_dt6    0.006286\n",
      "90          open_dt7    0.025639\n",
      "91          open_dt8    0.049710\n",
      "92          open_dt9    0.069021\n",
      "93         open_dt10    0.061697\n",
      "94         open_dt11    0.089065\n",
      "95         open_dt12    0.038290\n",
      "96         open_dt13    0.164430\n",
      "97          high_dt0    0.189138\n",
      "98          high_dt1    0.043988\n",
      "99          high_dt2    0.025650\n",
      "100         high_dt3    0.025125\n",
      "101         high_dt4    0.060370\n",
      "102         high_dt5    0.042656\n",
      "103         high_dt6    0.010992\n",
      "104         high_dt7    0.001543\n",
      "105         high_dt8    0.110316\n",
      "106         high_dt9    0.110321\n",
      "107        high_dt10    0.070072\n",
      "108        high_dt11    0.040853\n",
      "109        high_dt12    0.179001\n",
      "110        high_dt13    0.193569\n",
      "111          low_dt0    0.090384\n",
      "112          low_dt1    0.066343\n",
      "113          low_dt2    0.068732\n",
      "114          low_dt3    0.065984\n",
      "115          low_dt4    0.054508\n",
      "116          low_dt5    0.085592\n",
      "117          low_dt6    0.092474\n",
      "118          low_dt7    0.020349\n",
      "119          low_dt8    0.017112\n",
      "120          low_dt9    0.086087\n",
      "121         low_dt10    0.109107\n",
      "122         low_dt11    0.207254\n",
      "123         low_dt12    0.189239\n",
      "124         low_dt13    0.230483\n",
      "125        close_dt0    0.190988\n",
      "126        close_dt1    0.034541\n",
      "127        close_dt2    0.027819\n",
      "128        close_dt3    0.000000\n",
      "129        close_dt4    0.008061\n",
      "130        close_dt5    0.016510\n",
      "131        close_dt6    0.044734\n",
      "132        close_dt7    0.021687\n",
      "133        close_dt8    0.029278\n",
      "134        close_dt9    0.038246\n",
      "135       close_dt10    0.034961\n",
      "136       close_dt11    0.159569\n",
      "137       close_dt12    0.244231\n",
      "138       close_dt13    0.408224\n",
      "139       volume_dt0    0.188044\n",
      "140       volume_dt1    0.092360\n",
      "141       volume_dt2    0.130221\n",
      "142       volume_dt3    0.079970\n",
      "143       volume_dt4    0.113126\n",
      "144       volume_dt5    0.109321\n",
      "145       volume_dt6    0.078281\n",
      "146       volume_dt7    0.078130\n",
      "147       volume_dt8    0.069062\n",
      "148       volume_dt9    0.072907\n",
      "149      volume_dt10    0.142995\n",
      "150      volume_dt11    0.171655\n",
      "151      volume_dt12    0.089116\n",
      "152      volume_dt13    0.112068\n",
      "153       amount_dt0    0.466186\n",
      "154       amount_dt1    0.279630\n",
      "155       amount_dt2    0.209653\n",
      "156       amount_dt3    0.207642\n",
      "157       amount_dt4    0.302274\n",
      "158       amount_dt5    0.314915\n",
      "159       amount_dt6    0.283470\n",
      "160       amount_dt7    0.190526\n",
      "161       amount_dt8    0.212374\n",
      "162       amount_dt9    0.258051\n",
      "163      amount_dt10    0.278568\n",
      "164      amount_dt11    0.349955\n",
      "165      amount_dt12    0.505451\n",
      "166      amount_dt13    0.936478\n",
      "167   adjustflag_dt0    0.035669\n",
      "168   adjustflag_dt1    0.000000\n",
      "169   adjustflag_dt2    0.000000\n",
      "170   adjustflag_dt3    0.000000\n",
      "171   adjustflag_dt4    0.000000\n",
      "172   adjustflag_dt5    0.000000\n",
      "173   adjustflag_dt6    0.000000\n",
      "174   adjustflag_dt7    0.000000\n",
      "175   adjustflag_dt8    0.000000\n",
      "176   adjustflag_dt9    0.000000\n",
      "177  adjustflag_dt10    0.000000\n",
      "178  adjustflag_dt11    0.000000\n",
      "179  adjustflag_dt12    0.000000\n",
      "180  adjustflag_dt13    0.000000\n",
      "181         turn_dt0    0.380487\n",
      "182         turn_dt1    0.107647\n",
      "183         turn_dt2    0.229335\n",
      "184         turn_dt3    0.262423\n",
      "185         turn_dt4    0.264114\n",
      "186         turn_dt5    0.254307\n",
      "187         turn_dt6    0.204687\n",
      "188         turn_dt7    0.109734\n",
      "189         turn_dt8    0.228473\n",
      "190         turn_dt9    0.142448\n",
      "191        turn_dt10    0.363147\n",
      "192        turn_dt11    0.254011\n",
      "193        turn_dt12    0.424431\n",
      "194        turn_dt13    0.593310\n",
      "195       pctChg_dt0    0.344059\n",
      "196       pctChg_dt1    0.316476\n",
      "197       pctChg_dt2    0.201212\n",
      "198       pctChg_dt3    0.136950\n",
      "199       pctChg_dt4    0.212680\n",
      "200       pctChg_dt5    0.135650\n",
      "201       pctChg_dt6    0.256684\n",
      "202       pctChg_dt7    0.208929\n",
      "203       pctChg_dt8    0.333041\n",
      "204       pctChg_dt9    0.293972\n",
      "205      pctChg_dt10    0.455389\n",
      "206      pctChg_dt11    0.649536\n",
      "207      pctChg_dt12    0.682896\n",
      "208      pctChg_dt13    0.283742\n",
      "209        peTTM_dt0    0.568226\n",
      "210        peTTM_dt1    0.304065\n",
      "211        peTTM_dt2    0.159336\n",
      "212        peTTM_dt3    0.122141\n",
      "213        peTTM_dt4    0.111155\n",
      "214        peTTM_dt5    0.111984\n",
      "215        peTTM_dt6    0.102011\n",
      "216        peTTM_dt7    0.188346\n",
      "217        peTTM_dt8    0.097677\n",
      "218        peTTM_dt9    0.121810\n",
      "219       peTTM_dt10    0.101565\n",
      "220       peTTM_dt11    0.316289\n",
      "221       peTTM_dt12    0.273836\n",
      "222       peTTM_dt13    0.260098\n",
      "223        psTTM_dt0    0.485851\n",
      "224        psTTM_dt1    0.247992\n",
      "225        psTTM_dt2    0.154205\n",
      "226        psTTM_dt3    0.247562\n",
      "227        psTTM_dt4    0.097085\n",
      "228        psTTM_dt5    0.068316\n",
      "229        psTTM_dt6    0.103616\n",
      "230        psTTM_dt7    0.112861\n",
      "231        psTTM_dt8    0.084346\n",
      "232        psTTM_dt9    0.279829\n",
      "233       psTTM_dt10    0.219846\n",
      "234       psTTM_dt11    0.241562\n",
      "235       psTTM_dt12    0.433936\n",
      "236       psTTM_dt13    0.502550\n",
      "237    pcfNcfTTM_dt0    0.909506\n",
      "238    pcfNcfTTM_dt1    0.428020\n",
      "239    pcfNcfTTM_dt2    0.229521\n",
      "240    pcfNcfTTM_dt3    0.303483\n",
      "241    pcfNcfTTM_dt4    0.284964\n",
      "242    pcfNcfTTM_dt5    0.273117\n",
      "243    pcfNcfTTM_dt6    0.261343\n",
      "244    pcfNcfTTM_dt7    0.279698\n",
      "245    pcfNcfTTM_dt8    0.183832\n",
      "246    pcfNcfTTM_dt9    0.331552\n",
      "247   pcfNcfTTM_dt10    0.245300\n",
      "248   pcfNcfTTM_dt11    0.365571\n",
      "249   pcfNcfTTM_dt12    0.501426\n",
      "250   pcfNcfTTM_dt13    0.462736\n",
      "251        pbMRQ_dt0    0.511074\n",
      "252        pbMRQ_dt1    0.180528\n",
      "253        pbMRQ_dt2    0.207392\n",
      "254        pbMRQ_dt3    0.123589\n",
      "255        pbMRQ_dt4    0.277049\n",
      "256        pbMRQ_dt5    0.181939\n",
      "257        pbMRQ_dt6    0.258737\n",
      "258        pbMRQ_dt7    0.159308\n",
      "259        pbMRQ_dt8    0.193024\n",
      "260        pbMRQ_dt9    0.221360\n",
      "261       pbMRQ_dt10    0.109936\n",
      "262       pbMRQ_dt11    0.219489\n",
      "263       pbMRQ_dt12    0.471749\n",
      "264       pbMRQ_dt13    1.118388\n",
      "265           收盘_dt0    0.251291\n",
      "266           收盘_dt1    0.219792\n",
      "267           收盘_dt2    0.017694\n",
      "268           收盘_dt3    0.206324\n",
      "269           收盘_dt4    0.113795\n",
      "270           收盘_dt5    0.124068\n",
      "271           收盘_dt6    0.157997\n",
      "272           收盘_dt7    0.068563\n",
      "273           收盘_dt8    0.130905\n",
      "274           收盘_dt9    0.110113\n",
      "275          收盘_dt10    0.054971\n",
      "276          收盘_dt11    0.043076\n",
      "277          收盘_dt12    0.026579\n",
      "278          收盘_dt13    0.153043\n",
      "279         收盘_1_dt0    0.347005\n",
      "280         收盘_1_dt1    0.289365\n",
      "281         收盘_1_dt2    0.089576\n",
      "282         收盘_1_dt3    0.123615\n",
      "283         收盘_1_dt4    0.219677\n",
      "284         收盘_1_dt5    0.084195\n",
      "285         收盘_1_dt6    0.168961\n",
      "286         收盘_1_dt7    0.135360\n",
      "287         收盘_1_dt8    0.024001\n",
      "288         收盘_1_dt9    0.089729\n",
      "289        收盘_1_dt10    0.118675\n",
      "290        收盘_1_dt11    0.202377\n",
      "291        收盘_1_dt12    0.153802\n",
      "292        收盘_1_dt13    0.152254\n",
      "293         收盘_2_dt0    0.273717\n",
      "294         收盘_2_dt1    0.304253\n",
      "295         收盘_2_dt2    0.069822\n",
      "296         收盘_2_dt3    0.073038\n",
      "297         收盘_2_dt4    0.124324\n",
      "298         收盘_2_dt5    0.063421\n",
      "299         收盘_2_dt6    0.148642\n",
      "300         收盘_2_dt7    0.109955\n",
      "301         收盘_2_dt8    0.082306\n",
      "302         收盘_2_dt9    0.089717\n",
      "303        收盘_2_dt10    0.068977\n",
      "304        收盘_2_dt11    0.179167\n",
      "305        收盘_2_dt12    0.060426\n",
      "306        收盘_2_dt13    0.010627\n",
      "307        收盘_-3_dt0    0.312467\n",
      "308        收盘_-3_dt1    0.281748\n",
      "309        收盘_-3_dt2    0.178702\n",
      "310        收盘_-3_dt3    0.234143\n",
      "311        收盘_-3_dt4    0.272644\n",
      "312        收盘_-3_dt5    0.198307\n",
      "313        收盘_-3_dt6    0.146376\n",
      "314        收盘_-3_dt7    0.127442\n",
      "315        收盘_-3_dt8    0.101702\n",
      "316        收盘_-3_dt9    0.118023\n",
      "317       收盘_-3_dt10    0.077204\n",
      "318       收盘_-3_dt11    0.071408\n",
      "319       收盘_-3_dt12    0.081024\n",
      "320       收盘_-3_dt13    0.172692\n",
      "321        收盘_-2_dt0    0.168012\n",
      "322        收盘_-2_dt1    0.301548\n",
      "323        收盘_-2_dt2    0.206228\n",
      "324        收盘_-2_dt3    0.173535\n",
      "325        收盘_-2_dt4    0.127744\n",
      "326        收盘_-2_dt5    0.182496\n",
      "327        收盘_-2_dt6    0.076414\n",
      "328        收盘_-2_dt7    0.049532\n",
      "329        收盘_-2_dt8    0.089888\n",
      "330        收盘_-2_dt9    0.064846\n",
      "331       收盘_-2_dt10    0.131739\n",
      "332       收盘_-2_dt11    0.150984\n",
      "333       收盘_-2_dt12    0.097807\n",
      "334       收盘_-2_dt13    0.225401\n",
      "335        收盘_-1_dt0    0.802498\n",
      "336        收盘_-1_dt1    0.301584\n",
      "337        收盘_-1_dt2    0.261036\n",
      "338        收盘_-1_dt3    0.461883\n",
      "339        收盘_-1_dt4    0.733907\n",
      "340        收盘_-1_dt5    0.353113\n",
      "341        收盘_-1_dt6    0.149771\n",
      "342        收盘_-1_dt7    0.252730\n",
      "343        收盘_-1_dt8    0.191104\n",
      "344        收盘_-1_dt9    0.151113\n",
      "345       收盘_-1_dt10    0.147992\n",
      "346       收盘_-1_dt11    0.143234\n",
      "347       收盘_-1_dt12    0.153746\n",
      "348       收盘_-1_dt13    0.000000\n",
      "349          换手率_dt0    0.342731\n",
      "350          换手率_dt1    0.176795\n",
      "351          换手率_dt2    0.221450\n",
      "352          换手率_dt3    0.186978\n",
      "353          换手率_dt4    0.108739\n",
      "354          换手率_dt5    0.159448\n",
      "355          换手率_dt6    0.259923\n",
      "356          换手率_dt7    0.216962\n",
      "357          换手率_dt8    0.141502\n",
      "358          换手率_dt9    0.134899\n",
      "359         换手率_dt10    0.190261\n",
      "360         换手率_dt11    0.243089\n",
      "361         换手率_dt12    0.148038\n",
      "362         换手率_dt13    0.037711\n",
      "363        换手率_1_dt0    0.208689\n",
      "364        换手率_1_dt1    0.114792\n",
      "365        换手率_1_dt2    0.119201\n",
      "366        换手率_1_dt3    0.208499\n",
      "367        换手率_1_dt4    0.217107\n",
      "368        换手率_1_dt5    0.286938\n",
      "369        换手率_1_dt6    0.241138\n",
      "370        换手率_1_dt7    0.172865\n",
      "371        换手率_1_dt8    0.096627\n",
      "372        换手率_1_dt9    0.172153\n",
      "373       换手率_1_dt10    0.150707\n",
      "374       换手率_1_dt11    0.213810\n",
      "375       换手率_1_dt12    0.140245\n",
      "376       换手率_1_dt13    0.065143\n",
      "377        换手率_2_dt0    0.362165\n",
      "378        换手率_2_dt1    0.097853\n",
      "379        换手率_2_dt2    0.135390\n",
      "380        换手率_2_dt3    0.107116\n",
      "381        换手率_2_dt4    0.160081\n",
      "382        换手率_2_dt5    0.072539\n",
      "383        换手率_2_dt6    0.256241\n",
      "384        换手率_2_dt7    0.123289\n",
      "385        换手率_2_dt8    0.071947\n",
      "386        换手率_2_dt9    0.059998\n",
      "387       换手率_2_dt10    0.086165\n",
      "388       换手率_2_dt11    0.119749\n",
      "389       换手率_2_dt12    0.219999\n",
      "390       换手率_2_dt13    0.108713\n",
      "391       换手率_-3_dt0    0.101302\n",
      "392       换手率_-3_dt1    0.153239\n",
      "393       换手率_-3_dt2    0.158564\n",
      "394       换手率_-3_dt3    0.046835\n",
      "395       换手率_-3_dt4    0.141743\n",
      "396       换手率_-3_dt5    0.244566\n",
      "397       换手率_-3_dt6    0.040340\n",
      "398       换手率_-3_dt7    0.086503\n",
      "399       换手率_-3_dt8    0.005153\n",
      "400       换手率_-3_dt9    0.128785\n",
      "401      换手率_-3_dt10    0.038908\n",
      "402      换手率_-3_dt11    0.173700\n",
      "403      换手率_-3_dt12    0.258503\n",
      "404      换手率_-3_dt13    0.112622\n",
      "405       换手率_-2_dt0    0.292425\n",
      "406       换手率_-2_dt1    0.193431\n",
      "407       换手率_-2_dt2    0.259304\n",
      "408       换手率_-2_dt3    0.281593\n",
      "409       换手率_-2_dt4    0.146617\n",
      "410       换手率_-2_dt5    0.135812\n",
      "411       换手率_-2_dt6    0.066888\n",
      "412       换手率_-2_dt7    0.047948\n",
      "413       换手率_-2_dt8    0.071084\n",
      "414       换手率_-2_dt9    0.125906\n",
      "415      换手率_-2_dt10    0.099657\n",
      "416      换手率_-2_dt11    0.118349\n",
      "417      换手率_-2_dt12    0.139013\n",
      "418      换手率_-2_dt13    0.103058\n",
      "419       换手率_-1_dt0    0.205760\n",
      "420       换手率_-1_dt1    0.308951\n",
      "421       换手率_-1_dt2    0.283928\n",
      "422       换手率_-1_dt3    0.295513\n",
      "423       换手率_-1_dt4    0.274988\n",
      "424       换手率_-1_dt5    0.188282\n",
      "425       换手率_-1_dt6    0.223659\n",
      "426       换手率_-1_dt7    0.290462\n",
      "427       换手率_-1_dt8    0.105601\n",
      "428       换手率_-1_dt9    0.213520\n",
      "429      换手率_-1_dt10    0.107637\n",
      "430      换手率_-1_dt11    0.073963\n",
      "431      换手率_-1_dt12    0.200000\n",
      "432      换手率_-1_dt13    0.093839\n",
      "433          成交额_dt0    0.231086\n",
      "434          成交额_dt1    0.125124\n",
      "435          成交额_dt2    0.084045\n",
      "436          成交额_dt3    0.088237\n",
      "437          成交额_dt4    0.030395\n",
      "438          成交额_dt5    0.016945\n",
      "439          成交额_dt6    0.060628\n",
      "440          成交额_dt7    0.060440\n",
      "441          成交额_dt8    0.059969\n",
      "442          成交额_dt9    0.088509\n",
      "443         成交额_dt10    0.272047\n",
      "444         成交额_dt11    0.116599\n",
      "445         成交额_dt12    0.138676\n",
      "446         成交额_dt13    0.201196\n",
      "447        成交额_1_dt0    0.321773\n",
      "448        成交额_1_dt1    0.143666\n",
      "449        成交额_1_dt2    0.119606\n",
      "450        成交额_1_dt3    0.092053\n",
      "451        成交额_1_dt4    0.060184\n",
      "452        成交额_1_dt5    0.095618\n",
      "453        成交额_1_dt6    0.070708\n",
      "454        成交额_1_dt7    0.151578\n",
      "455        成交额_1_dt8    0.076562\n",
      "456        成交额_1_dt9    0.033341\n",
      "457       成交额_1_dt10    0.072293\n",
      "458       成交额_1_dt11    0.034710\n",
      "459       成交额_1_dt12    0.123042\n",
      "460       成交额_1_dt13    0.059211\n",
      "461        成交额_2_dt0    0.153932\n",
      "462        成交额_2_dt1    0.076118\n",
      "463        成交额_2_dt2    0.136269\n",
      "464        成交额_2_dt3    0.149961\n",
      "465        成交额_2_dt4    0.139448\n",
      "466        成交额_2_dt5    0.111095\n",
      "467        成交额_2_dt6    0.111475\n",
      "468        成交额_2_dt7    0.111864\n",
      "469        成交额_2_dt8    0.052087\n",
      "470        成交额_2_dt9    0.108142\n",
      "471       成交额_2_dt10    0.092376\n",
      "472       成交额_2_dt11    0.054005\n",
      "473       成交额_2_dt12    0.194182\n",
      "474       成交额_2_dt13    0.084840\n",
      "475       成交额_-3_dt0    0.068233\n",
      "476       成交额_-3_dt1    0.044517\n",
      "477       成交额_-3_dt2    0.083934\n",
      "478       成交额_-3_dt3    0.111839\n",
      "479       成交额_-3_dt4    0.154228\n",
      "480       成交额_-3_dt5    0.144590\n",
      "481       成交额_-3_dt6    0.088633\n",
      "482       成交额_-3_dt7    0.020604\n",
      "483       成交额_-3_dt8    0.093004\n",
      "484       成交额_-3_dt9    0.078639\n",
      "485      成交额_-3_dt10    0.128338\n",
      "486      成交额_-3_dt11    0.230064\n",
      "487      成交额_-3_dt12    0.258900\n",
      "488      成交额_-3_dt13    0.147395\n",
      "489       成交额_-2_dt0    0.173849\n",
      "490       成交额_-2_dt1    0.293037\n",
      "491       成交额_-2_dt2    0.084404\n",
      "492       成交额_-2_dt3    0.037321\n",
      "493       成交额_-2_dt4    0.035813\n",
      "494       成交额_-2_dt5    0.048101\n",
      "495       成交额_-2_dt6    0.043236\n",
      "496       成交额_-2_dt7    0.025955\n",
      "497       成交额_-2_dt8    0.073235\n",
      "498       成交额_-2_dt9    0.172476\n",
      "499      成交额_-2_dt10    0.106079\n",
      "500      成交额_-2_dt11    0.135815\n",
      "501      成交额_-2_dt12    0.242767\n",
      "502      成交额_-2_dt13    0.116273\n",
      "503       成交额_-1_dt0    0.462743\n",
      "504       成交额_-1_dt1    0.440511\n",
      "505       成交额_-1_dt2    0.283951\n",
      "506       成交额_-1_dt3    0.304233\n",
      "507       成交额_-1_dt4    0.307755\n",
      "508       成交额_-1_dt5    0.331011\n",
      "509       成交额_-1_dt6    0.240074\n",
      "510       成交额_-1_dt7    0.237205\n",
      "511       成交额_-1_dt8    0.279638\n",
      "512       成交额_-1_dt9    0.127483\n",
      "513      成交额_-1_dt10    0.343174\n",
      "514      成交额_-1_dt11    0.343840\n",
      "515      成交额_-1_dt12    0.298177\n",
      "516      成交额_-1_dt13    0.140256\n"
     ]
    }
   ],
   "source": [
    "#!/usr/bin/env python\n",
    "# coding: utf-8\n",
    "\n",
    "# In[1]:\n",
    "\n",
    "\n",
    "from get_stock_data import Downloader, mkdir\n",
    "import os\n",
    "import argparse\n",
    "from tqdm import tqdm\n",
    "import pandas as pd\n",
    "import numpy as np\n",
    "import catboost as cb\n",
    "import datetime\n",
    "import functools\n",
    "from collections import defaultdict, Counter\n",
    "\n",
    "from utils import reduce_mem\n",
    "\n",
    "\n",
    "# 使用该股对应的板块的open close等，作为特征\n",
    "def concept_feature(data):\n",
    "    print('Begin concept feature')\n",
    "    data.code = data.code.apply(lambda x:int(x[3:]))\n",
    "    data.date = data.date.apply(lambda x: int(x.replace('-', '')))\n",
    "    concept_df = pd.read_csv(params.concept_path)[['代码', '板块名称']]\n",
    "    concept_hist_df = pd.read_csv(params.concept_hist_path)\n",
    "    concept_df['代码'] = concept_df['代码'].apply(lambda x:str(x).zfill(6))\n",
    "    \n",
    "    concept_hist_df['日期'] = concept_hist_df['日期'].apply(lambda x:int(x.replace('-', '')))\n",
    "    \n",
    "    concept_counter = Counter([c for c in concept_df['板块名称'].values if '昨日' not in c])\n",
    "\n",
    "    concept_dic = defaultdict(list)\n",
    "    for code, concept in concept_df.values:\n",
    "        if '昨日' in concept:continue\n",
    "        concept_dic[int(code)].append(concept)\n",
    "\n",
    "    def compare_concept(x, y):\n",
    "        x, y = concept_counter[x], concept_counter[y]\n",
    "        if x < y:return -1\n",
    "        if x > y: return 1\n",
    "        return 0\n",
    "    for k, v in concept_dic.items():\n",
    "        concept_dic[k] = sorted(v, key=functools.cmp_to_key(compare_concept))\n",
    "\n",
    "    data['concept_0'] = data.code.apply(lambda x:concept_dic[int(x)][0] if len(concept_dic[x])>0 else np.nan)\n",
    "    data['concept_1'] = data.code.apply(lambda x:concept_dic[int(x)][1] if len(concept_dic[x])>1 else np.nan)\n",
    "    data['concept_2'] = data.code.apply(lambda x:concept_dic[int(x)][2] if len(concept_dic[x])>2 else np.nan)\n",
    "\n",
    "    data['concept_-3'] = data.code.apply(lambda x:concept_dic[int(x)][-3] if len(concept_dic[x])>3 else np.nan)\n",
    "    data['concept_-2'] = data.code.apply(lambda x:concept_dic[int(x)][-2] if len(concept_dic[x])>4 else np.nan)\n",
    "    data['concept_-1'] = data.code.apply(lambda x:concept_dic[int(x)][-1] if len(concept_dic[x])>5 else np.nan)\n",
    "    \n",
    "    data = pd.merge(data, concept_hist_df, left_on=['date', 'concept_0'], right_on=['日期', '板块名称'], how='left')\n",
    "    data = pd.merge(data, concept_hist_df, left_on=['date', 'concept_1'], right_on=['日期', '板块名称'], how='left', suffixes=(None, '_1'))\n",
    "    data = pd.merge(data, concept_hist_df, left_on=['date', 'concept_2'], right_on=['日期', '板块名称'], how='left', suffixes=(None, '_2'))\n",
    "    data = pd.merge(data, concept_hist_df, left_on=['date', 'concept_-3'], right_on=['日期', '板块名称'], how='left', suffixes=(None, '_-3'))\n",
    "    data = pd.merge(data, concept_hist_df, left_on=['date', 'concept_-2'], right_on=['日期', '板块名称'], how='left', suffixes=(None, '_-2'))\n",
    "    data = pd.merge(data, concept_hist_df, left_on=['date', 'concept_-1'], right_on=['日期', '板块名称'], how='left', suffixes=(None, '_-1'))\n",
    "    \n",
    "    \n",
    "    # label encoder\n",
    "    concept_labelencoder = {c:i for i, c in enumerate(np.unique(concept_df['板块名称'].values))}\n",
    "    concept_labelencoder.update({np.nan:np.nan})\n",
    "    data['concept_0'] = data['concept_0'].apply(lambda x:concept_labelencoder[x])\n",
    "    data['concept_1'] = data['concept_1'].apply(lambda x:concept_labelencoder[x])\n",
    "    data['concept_2'] = data['concept_2'].apply(lambda x:concept_labelencoder[x])\n",
    "    \n",
    "    data['concept_-3'] = data['concept_-3'].apply(lambda x:concept_labelencoder[x])\n",
    "    data['concept_-2'] = data['concept_-2'].apply(lambda x:concept_labelencoder[x])\n",
    "    data['concept_-1'] = data['concept_-1'].apply(lambda x:concept_labelencoder[x])\n",
    "    return data\n",
    "\n",
    "def feature_engineer(data, window_size):\n",
    "    data = data.sort_values(by=['code', 'date'])\n",
    "    alpha_list = ['open', 'high', 'low', 'close', 'volume', 'amount', 'adjustflag', 'turn', 'pctChg', 'peTTM', 'psTTM', 'pcfNcfTTM', 'pbMRQ']\n",
    "    \n",
    "    stock_industry = pd.read_csv(params.industry_path, encoding=\"gbk\")\n",
    "#     stock_industry.code = stock_industry.code.apply(lambda x:int(x[3:]))s\n",
    "    \n",
    "    from sklearn.preprocessing import LabelEncoder\n",
    "    lbe = LabelEncoder()\n",
    "    stock_industry['industry'] = lbe.fit_transform(stock_industry['industry'])\n",
    "    data = pd.merge(data, stock_industry[['code', 'industry']], how='left', on='code')\n",
    "    \n",
    "    # concept feature\n",
    "    data = concept_feature(data)\n",
    "    alpha_list += [f'{x}{i}' for x in ['收盘', '换手率', '成交额'] for i in ['', '_1', '_2', '_-3', '_-2', '_-1']]\n",
    "    data = reduce_mem(data, list(data))\n",
    "\n",
    "    # alpha net\n",
    "    length = window_size\n",
    "    \n",
    "    \n",
    "    for name in tqdm(alpha_list):\n",
    "#     for name in tqdm(['open']):\n",
    "        roll_feature = []\n",
    "        for i, group in data.groupby('code', sort=False)[name]:\n",
    "            values = group.tolist()\n",
    "            values = [0]*(length - 1) + values\n",
    "            roll_feature = roll_feature + [values[i:i+length] for i in range(len(group))]\n",
    "        roll_columns = [f'{name}_dt{i}' for i in range(length)]\n",
    "        data = pd.concat([data, pd.DataFrame(roll_feature, columns=roll_columns)], axis=1).reset_index(drop=True)\n",
    "        data = reduce_mem(data, roll_columns)\n",
    "    \n",
    "    # generate label\n",
    "    data['label'] = data.groupby('code', sort=False).close.transform(lambda x:(x.shift(-14) - x) / (x + 1e-7) )\n",
    "#     data = data.dropna(subset = ['label'], inplace=False)\n",
    "#     data = data.replace(np.nan, 0)\n",
    "    train, test = data[data['date'] <= params.date_split].reset_index(drop=True), data[data['date'] == params.date_split].reset_index(drop=True)\n",
    "    train = train.dropna(subset = ['label'], inplace=False)\n",
    "    return train, test\n",
    "\n",
    "def update_dataset():\n",
    "#     downloader = Downloader(params.raw_train_path, \n",
    "#                             date_start=params.date_start, # start和 end都包含\n",
    "#                             date_end=params.date_end, \n",
    "#                             frequency='d',\n",
    "#                             header=False,\n",
    "#                             mode='all')\n",
    "#     downloader.run()\n",
    "\n",
    "    def df_concat(csv_path):\n",
    "        df_arr = []\n",
    "        for file_path in tqdm(os.listdir(csv_path)):\n",
    "            try:\n",
    "                if file_path.split('.') != 'csv':pass\n",
    "                temp = pd.read_csv(csv_path + '/' + file_path, engine='python')\n",
    "                temp['intDate'] = temp.date.apply(lambda x: int(x.replace('-', '')))\n",
    "                temp = temp[temp['intDate'] >= params.date_abandon].reset_index(drop=True)\n",
    "                if len(temp)==0:continue\n",
    "                df_arr.append(temp)\n",
    "            except:\n",
    "                pass\n",
    "        return pd.concat(df_arr)\n",
    "\n",
    "\n",
    "    train = df_concat(params.raw_train_path)\n",
    "    train = train.drop('intDate', axis=1)\n",
    "    assert params.date_end in train.date.unique()\n",
    "    train.to_csv(params.train_path, index=False)\n",
    "    return\n",
    "\n",
    "def preprocess():\n",
    "    mode = params.mode\n",
    "    if mode == 'debug':\n",
    "        data = pd.read_csv(params.train_path, nrows=100000)\n",
    "    else:\n",
    "        data = pd.read_csv(params.train_path)\n",
    "\n",
    "#     data.date = data.date.apply(lambda x: int(x.replace('-', '')))\n",
    "#     data.code = data.code.apply(lambda x:x[3:])\n",
    "#     data = data[data['date'] >= params.date_abandon].reset_index(drop=True)\n",
    "    return data\n",
    "\n",
    "def infer_model(train, test):\n",
    "    ycol = 'label'\n",
    "    feature_names = list(\n",
    "        filter(lambda x: x not in [ycol, 'code', 'date', ''] and '日期' not in x and '板块名称' not in x, train.columns))\n",
    "\n",
    "    # print(feature_names)\n",
    "\n",
    "    quantile_30, quantile_70 = train.label.quantile([0.3, 0.7]).values\n",
    "    print('quantile_30:', quantile_30)\n",
    "    print('quantile_70:', quantile_70)\n",
    "    def label_quantile(x):\n",
    "        if x<quantile_30:return 0\n",
    "        elif x<quantile_70:return 1\n",
    "        else:return 2\n",
    "\n",
    "    train.label = train.label.apply(label_quantile)\n",
    "    test.label = test.label.apply(label_quantile)\n",
    "    X_train = train[feature_names];Y_train = train[ycol]\n",
    "    X_val = test[feature_names];Y_val = test[ycol]\n",
    "\n",
    "    model = cb.CatBoostClassifier(eval_metric=\"AUC\", task_type='GPU', **params.model_params)\n",
    "    cat_model = model.fit(X_train,\n",
    "                          Y_train,\n",
    "                          eval_set=(X_val, Y_val),\n",
    "                          verbose=500)\n",
    "\n",
    "    df_importance = pd.DataFrame({\n",
    "        'column': feature_names,\n",
    "        'importance': cat_model.feature_importances_,\n",
    "    })\n",
    "\n",
    "    # cat_model.save_model(f'cb_{frequency}.model')\n",
    "\n",
    "    pd.set_option('display.max_rows', None)\n",
    "    print(df_importance)\n",
    "    cat_model.save_model(f'model/concept_{params.window_size}_debug.model')\n",
    "    \n",
    "    # prediction and save\n",
    "    prediction = cat_model.predict_proba(X_val)\n",
    "    test['label_-1'] = prediction[:,0]\n",
    "    test['label_0'] = prediction[:,1]\n",
    "    test['label_1'] = prediction[:,2]\n",
    "    test.to_csv(params.submit_path, index=False)\n",
    "\n",
    "def train_model(train, test):\n",
    "    ycol = 'label'\n",
    "    feature_names = list(\n",
    "        filter(lambda x: x not in [ycol, 'code', 'date', ''] and '日期' not in x and '板块名称' not in x, train.columns))\n",
    "\n",
    "    # print(feature_names)\n",
    "\n",
    "    quantile_30, quantile_70 = train.label.quantile([0.3, 0.7]).values\n",
    "    print('quantile_30:', quantile_30)\n",
    "    print('quantile_70:', quantile_70)\n",
    "    def label_quantile(x):\n",
    "        if x<quantile_30:return 0\n",
    "        elif x<quantile_70:return 1\n",
    "        else:return 2\n",
    "\n",
    "    train.label = train.label.apply(label_quantile)\n",
    "    test.label = test.label.apply(label_quantile)\n",
    "    X_train = train[feature_names];Y_train = train[ycol]\n",
    "    X_val = test[feature_names];Y_val = test[ycol]\n",
    "\n",
    "    model = cb.CatBoostClassifier(eval_metric=\"AUC\", task_type='GPU', **params.model_params)\n",
    "    cat_model = model.fit(X_train,\n",
    "                          Y_train,\n",
    "                          eval_set=(X_val, Y_val),\n",
    "                          verbose=500)\n",
    "\n",
    "    df_importance = pd.DataFrame({\n",
    "        'column': feature_names,\n",
    "        'importance': cat_model.feature_importances_,\n",
    "    })\n",
    "\n",
    "    # cat_model.save_model(f'cb_{frequency}.model')\n",
    "\n",
    "    pd.set_option('display.max_rows', None)\n",
    "    print(df_importance)\n",
    "    cat_model.save_model(f'model/concept_{params.window_size}_debug.model')\n",
    "    \n",
    "    # prediction and save\n",
    "    prediction = cat_model.predict_proba(X_val)\n",
    "    test['label_-1'] = prediction[:,0]\n",
    "    test['label_0'] = prediction[:,1]\n",
    "    test['label_1'] = prediction[:,2]\n",
    "    test.to_csv(params.submit_path, index=False)\n",
    "\n",
    "def main():\n",
    "    # 获取全部股票的日K线数据\n",
    "    mkdir('stockdata/d_data')\n",
    "    \n",
    "    # update dataset to today\n",
    "#     update_dataset()\n",
    "\n",
    "    # preprocess \n",
    "    data = preprocess()\n",
    "\n",
    "    # feature engineer\n",
    "    train, test = feature_engineer(data, params.window_size)\n",
    "    \n",
    "    # train model\n",
    "    train_model(train, test)\n",
    "\n",
    "class params:\n",
    "    mode = 'debug'\n",
    "    window_size = 14\n",
    "    \n",
    "    date_abandon = 20210101\n",
    "    date_split = 20221111\n",
    "    date_start = '2022-06-02'\n",
    "    date_end = '2022-11-11' # 不能选择今天的日期，周末的日期\n",
    "    \n",
    "    raw_train_path = 'stockdata/d_train'\n",
    "    raw_test_path = 'stockdata/d_test'\n",
    "    train_path = 'stockdata/d_data/train.csv'\n",
    "    test_path = 'stockdata/d_data/test.csv'\n",
    "    industry_path = 'stockdata/stock_industry.csv'\n",
    "    concept_path = 'stockdata/concept_df.csv'\n",
    "    concept_hist_path = 'stockdata/concept_hist_df.csv'\n",
    "    submit_path = f'submit/{date_end}.csv'    \n",
    "    \n",
    "    model_params = {'n_estimators':5000,\n",
    "          'learning_rate': 0.05,\n",
    "          'max_depth': 7,\n",
    "          'early_stopping_rounds':1000,\n",
    "          'loss_function':'MultiClass',\n",
    "           'classes_count':3,\n",
    "          'max_bin':512,\n",
    "          'subsample':0.8,\n",
    "          'bootstrap_type':'Poisson',\n",
    "          'random_seed':np.random.randint(0,2021)}\n",
    "    \n",
    "    \n",
    "if __name__ == '__main__':\n",
    "    main()"
   ]
  },
  {
   "cell_type": "code",
   "execution_count": null,
   "id": "2f0fe520-48ba-4d96-b504-f7e75c544377",
   "metadata": {},
   "outputs": [],
   "source": [
    "## 需要预测未来的股价涨跌百分比排行"
   ]
  },
  {
   "cell_type": "code",
   "execution_count": null,
   "id": "5dea835c-d9cf-43ea-af9b-c4b4692a93b3",
   "metadata": {},
   "outputs": [],
   "source": []
  }
 ],
 "metadata": {
  "kernelspec": {
   "display_name": "Python 3",
   "language": "python",
   "name": "python3"
  },
  "language_info": {
   "codemirror_mode": {
    "name": "ipython",
    "version": 3
   },
   "file_extension": ".py",
   "mimetype": "text/x-python",
   "name": "python",
   "nbconvert_exporter": "python",
   "pygments_lexer": "ipython3",
   "version": "3.7.1"
  }
 },
 "nbformat": 4,
 "nbformat_minor": 5
}
