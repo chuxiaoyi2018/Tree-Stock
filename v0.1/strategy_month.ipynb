{
 "cells": [
  {
   "cell_type": "code",
   "execution_count": 20,
   "id": "ea5d2aa5-951e-4b81-beb8-aff0027b984e",
   "metadata": {},
   "outputs": [],
   "source": [
    "from get_stock_data import Downloader, mkdir\n",
    "from tqdm import tqdm\n",
    "import os\n",
    "import pandas as pd\n",
    "import numpy as np\n",
    "import catboost as cb\n",
    "from sklearn.preprocessing import LabelEncoder\n",
    "\n",
    "stockdata_path = './stockdata'\n",
    "mode = \"all\"\n",
    "train_path = './stockdata/m_train'\n",
    "test_path = './stockdata/m_test'\n",
    "\n",
    "\n",
    "def download():\n",
    "#     mkdir(train_path)\n",
    "#     downloader = Downloader(train_path, \n",
    "#                             date_start='1990-12-19', \n",
    "#                             date_end='2022-05-23', \n",
    "#                             frequency='m',\n",
    "#                             mode=mode)\n",
    "#     downloader.run()\n",
    "\n",
    "    mkdir(test_path)\n",
    "    downloader = Downloader(test_path, \n",
    "                            date_start='2022-05-23', \n",
    "                            date_end='2022-07-23', \n",
    "                            frequency='m',\n",
    "                            mode=mode)\n",
    "    downloader.run()"
   ]
  },
  {
   "cell_type": "code",
   "execution_count": 21,
   "id": "dc96e845-14b6-4d91-bf85-eca3f9f2f01b",
   "metadata": {},
   "outputs": [
    {
     "name": "stderr",
     "output_type": "stream",
     "text": [
      "0it [00:00, ?it/s]"
     ]
    },
    {
     "name": "stdout",
     "output_type": "stream",
     "text": [
      "login success!\n",
      "logout success!\n"
     ]
    },
    {
     "name": "stderr",
     "output_type": "stream",
     "text": [
      "\n"
     ]
    }
   ],
   "source": [
    "download()"
   ]
  },
  {
   "cell_type": "code",
   "execution_count": 4,
   "id": "4ee1bf5d-aca7-4e00-bd6b-7367408c6c41",
   "metadata": {},
   "outputs": [
    {
     "name": "stderr",
     "output_type": "stream",
     "text": [
      "100%|██████████| 5302/5302 [00:30<00:00, 173.39it/s]\n",
      "100%|██████████| 1/1 [00:00<00:00, 295.46it/s]\n"
     ]
    }
   ],
   "source": [
    "def df_concat(csv_path):\n",
    "    df_arr = []\n",
    "    for path in tqdm(os.listdir(csv_path)):\n",
    "        try:\n",
    "            temp = pd.read_csv(csv_path + '/' + path, engine='python')\n",
    "            df_arr.append(temp)\n",
    "        except:\n",
    "            pass\n",
    "    return pd.concat(df_arr)\n",
    "    \n",
    "    \n",
    "train = df_concat(train_path)\n",
    "test = df_concat(test_path)"
   ]
  },
  {
   "cell_type": "code",
   "execution_count": 5,
   "id": "fdb9ea36-c901-4c3a-b771-f2b1a3b366a1",
   "metadata": {},
   "outputs": [],
   "source": [
    "def feature_engineer(train, test):\n",
    "    train_len = len(train)\n",
    "    data = pd.concat((train, test), sort=False).reset_index(drop=True)\n",
    "    \n",
    "    stock_industry = pd.read_csv(\"stock_industry.csv\", encoding=\"gbk\")\n",
    "    from sklearn.preprocessing import LabelEncoder\n",
    "    lbe = LabelEncoder()\n",
    "    stock_industry['industry'] = lbe.fit_transform(stock_industry['industry'])\n",
    "    data = pd.merge(data, stock_industry[['code', 'industry']], how='left', on='code')\n",
    "    \n",
    "    for name in tqdm(['close', 'volume', 'amount', 'turn', 'pctChg']):\n",
    "        for day in ['7', '30']:\n",
    "            rolling = data.groupby('code')[f'{name}'].rolling(window=int(day), center=False)\n",
    "            data[f'{name}_rolling_{day}_mean'] = rolling.mean().reset_index(drop=True)\n",
    "            data[f'{name}_rolling_{day}_max'] = rolling.max().reset_index(drop=True)\n",
    "            data[f'{name}_rolling_{day}_min'] = rolling.min().reset_index(drop=True)\n",
    "            data[f'{name}_rolling_{day}_sum'] = rolling.sum().reset_index(drop=True)\n",
    "            data[f'{name}_rolling_{day}_median'] = rolling.median().reset_index(drop=True)\n",
    "            data[f'{name}_rolling_{day}_skew'] = rolling.skew().reset_index(drop=True)\n",
    "            data[f'{name}_rolling_{day}_kurt'] = rolling.kurt().reset_index(drop=True)\n",
    "            data[f'{name}_rolling_{day}_std'] = rolling.std().reset_index(drop=True)\n",
    "#             data[f'{name}_rolling_{day}_mad'] = rolling.mad()\n",
    "#             data[f'{name}_rolling_{day}_autocorr1'] = rolling.autocorr(1)\n",
    "#             data[f'{name}_rolling_{day}_autocorr2'] = rolling.autocorr(2)\n",
    "    \n",
    "            \n",
    "    \n",
    "    return data.iloc[:train_len].reset_index(drop=True), data.iloc[train_len:].reset_index(drop=True)"
   ]
  },
  {
   "cell_type": "code",
   "execution_count": 6,
   "id": "1f2fdde4-7312-4b5d-b2cf-e7e5afb0ff5c",
   "metadata": {},
   "outputs": [
    {
     "name": "stderr",
     "output_type": "stream",
     "text": [
      "100%|██████████| 5/5 [03:46<00:00, 45.36s/it]\n"
     ]
    }
   ],
   "source": [
    "train, test = feature_engineer(train, test)\n",
    "\n",
    "lbe = LabelEncoder()\n",
    "train['code'] = lbe.fit_transform(train['code'])\n",
    "\n",
    "lbe = LabelEncoder()\n",
    "test['code'] = lbe.fit_transform(test['code'])"
   ]
  },
  {
   "cell_type": "code",
   "execution_count": 7,
   "id": "0cf54902-2b45-4f04-83d4-d097102aa466",
   "metadata": {},
   "outputs": [],
   "source": [
    "train['label'] = [0 if x>0 else 1 for x in (train.close - train.shift(-1).close)]\n",
    "test['label'] = [0 if x>0 else 1 for x in (test.close - test.shift(-1).close)]\n",
    "train.to_csv(stockdata_path + '/' + 'm_train.csv', index=False)\n",
    "test.to_csv(stockdata_path + '/' + 'm_test.csv', index=False)"
   ]
  },
  {
   "cell_type": "code",
   "execution_count": 24,
   "id": "f3b34e17-8fea-4a1d-83c5-b9faf1834de4",
   "metadata": {},
   "outputs": [],
   "source": [
    "train = pd.read_csv(stockdata_path + '/' + 'm_train.csv', engine='python')"
   ]
  },
  {
   "cell_type": "code",
   "execution_count": 27,
   "id": "97361f07-7ba7-4751-be70-e67256ab9950",
   "metadata": {},
   "outputs": [
    {
     "data": {
      "text/plain": [
       "0         2000-09-29\n",
       "1         2000-10-31\n",
       "2         2000-11-30\n",
       "3         2000-12-29\n",
       "4         2001-01-19\n",
       "             ...    \n",
       "696938    2021-11-30\n",
       "696939    2021-12-31\n",
       "696940    2022-01-28\n",
       "696941    2022-02-28\n",
       "696942    2022-03-31\n",
       "Name: date, Length: 696943, dtype: object"
      ]
     },
     "execution_count": 27,
     "metadata": {},
     "output_type": "execute_result"
    }
   ],
   "source": [
    "train['date']"
   ]
  },
  {
   "cell_type": "code",
   "execution_count": 35,
   "id": "50f84f55-71c0-4d8c-bf37-0ee2b948bbd8",
   "metadata": {},
   "outputs": [],
   "source": [
    "train[\"timestamp\"] = train[\"date\"].apply(lambda x: time.mktime(time.strptime(x,\"%Y-%m-%d\")))"
   ]
  },
  {
   "cell_type": "code",
   "execution_count": 39,
   "id": "c83de528-39ca-4432-ab8b-67abec4738f6",
   "metadata": {},
   "outputs": [],
   "source": [
    "date_threshold = time.mktime(time.strptime('2022-01-01',\"%Y-%m-%d\"))\n",
    "train, test = train[train['timestamp']<=date_threshold], train[train['timestamp']>date_threshold]"
   ]
  },
  {
   "cell_type": "code",
   "execution_count": 53,
   "id": "87619a7a-ea46-4293-9f04-4cd199287795",
   "metadata": {},
   "outputs": [],
   "source": [
    "ycol = 'label'\n",
    "feature_names = list(\n",
    "    filter(lambda x: x not in [ycol, 'date', '', 'Unnamed: 0', 'timestamp'], train.columns))\n",
    "feature_names = ['code','open','high','low','close','volume','amount', 'pctChg', 'industry', 'turn']"
   ]
  },
  {
   "cell_type": "code",
   "execution_count": 59,
   "id": "79e50eb6-0b4a-411c-9a15-9d87e333f1ff",
   "metadata": {},
   "outputs": [
    {
     "ename": "TypeError",
     "evalue": "fit() got an unexpected keyword argument 'keep_training_booster'",
     "output_type": "error",
     "traceback": [
      "\u001b[0;31m---------------------------------------------------------------------------\u001b[0m",
      "\u001b[0;31mTypeError\u001b[0m                                 Traceback (most recent call last)",
      "\u001b[0;32m<ipython-input-59-7efb72bc835c>\u001b[0m in \u001b[0;36m<module>\u001b[0;34m\u001b[0m\n\u001b[1;32m     25\u001b[0m                       \u001b[0minit_model\u001b[0m\u001b[0;34m=\u001b[0m\u001b[0;34m'cb_month.model'\u001b[0m\u001b[0;34m,\u001b[0m \u001b[0;31m# 如果init_model不为None，那么就是在init_model基础上接着训练\u001b[0m\u001b[0;34m\u001b[0m\u001b[0;34m\u001b[0m\u001b[0m\n\u001b[1;32m     26\u001b[0m                       \u001b[0mkeep_training_booster\u001b[0m\u001b[0;34m=\u001b[0m\u001b[0;32mTrue\u001b[0m\u001b[0;34m,\u001b[0m\u001b[0;34m\u001b[0m\u001b[0;34m\u001b[0m\u001b[0m\n\u001b[0;32m---> 27\u001b[0;31m                       verbose=200)\n\u001b[0m\u001b[1;32m     28\u001b[0m \u001b[0;34m\u001b[0m\u001b[0m\n\u001b[1;32m     29\u001b[0m \u001b[0;34m\u001b[0m\u001b[0m\n",
      "\u001b[0;31mTypeError\u001b[0m: fit() got an unexpected keyword argument 'keep_training_booster'"
     ]
    }
   ],
   "source": [
    "params = {'n_estimators':5000,\n",
    "      'learning_rate': 0.05,\n",
    "      'max_depth': 7,\n",
    "      'early_stopping_rounds':1000,\n",
    "      'loss_function':'Logloss',\n",
    "      'max_bin':512,\n",
    "      'subsample':0.8,\n",
    "      'bootstrap_type':'Poisson',\n",
    "      'random_seed':np.random.randint(0,2021)}\n",
    "\n",
    "model = cb.CatBoostClassifier(eval_metric=\"AUC\", task_type='GPU', **params)\n",
    "\n",
    "X_train = train[feature_names]\n",
    "Y_train = train[ycol]\n",
    "\n",
    "X_val = test[feature_names]\n",
    "Y_val = test[ycol]\n",
    "\n",
    "\n",
    "lgb_model = model.fit(X_train,\n",
    "                      Y_train,\n",
    "                      # eval_names=['train', 'valid'],\n",
    "                      # eval_set=[(X_train, Y_train), (X_val, Y_val)],\n",
    "                      eval_set=(X_val, Y_val),\n",
    "                      init_model='cb_month.model', # 如果init_model不为None，那么就是在init_model基础上接着训练\n",
    "                      keep_training_booster=True,\n",
    "                      verbose=200)\n",
    "\n",
    "\n",
    "df_importance = pd.DataFrame({\n",
    "    'column': feature_names,\n",
    "    'importance': lgb_model.feature_importances_,\n",
    "})\n",
    "\n",
    "# lgb_model.save_model(f'cb_{frequency}.model')"
   ]
  },
  {
   "cell_type": "code",
   "execution_count": 10,
   "id": "55b13c9a-41f6-469a-983b-b9dc5a52935b",
   "metadata": {},
   "outputs": [],
   "source": [
    "lgb_model.save_model(f'cb_month.model')"
   ]
  },
  {
   "cell_type": "code",
   "execution_count": 56,
   "id": "f24f46f4-2fe4-4374-bd33-2b775aafb012",
   "metadata": {},
   "outputs": [],
   "source": [
    "df_importance = df_importance.sort_values(by='importance')"
   ]
  },
  {
   "cell_type": "code",
   "execution_count": 57,
   "id": "3fa39468-1d08-471f-84c3-f4d3141c4333",
   "metadata": {},
   "outputs": [],
   "source": [
    "df_importance.to_csv('df_importance.csv', index=False)"
   ]
  },
  {
   "cell_type": "code",
   "execution_count": null,
   "id": "ccf03998-1344-491f-a2d1-c7b81afc4005",
   "metadata": {},
   "outputs": [],
   "source": []
  }
 ],
 "metadata": {
  "kernelspec": {
   "display_name": "Python 3",
   "language": "python",
   "name": "python3"
  },
  "language_info": {
   "codemirror_mode": {
    "name": "ipython",
    "version": 3
   },
   "file_extension": ".py",
   "mimetype": "text/x-python",
   "name": "python",
   "nbconvert_exporter": "python",
   "pygments_lexer": "ipython3",
   "version": "3.7.1"
  }
 },
 "nbformat": 4,
 "nbformat_minor": 5
}
