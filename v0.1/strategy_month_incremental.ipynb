{
 "cells": [
  {
   "cell_type": "code",
   "execution_count": 8,
   "id": "ae046779-db53-4fbc-8a56-07040d2ca60e",
   "metadata": {},
   "outputs": [],
   "source": [
    "from get_stock_data import Downloader, mkdir\n",
    "from tqdm import tqdm\n",
    "import os\n",
    "import pandas as pd\n",
    "import numpy as np\n",
    "import catboost as cb\n",
    "from sklearn.preprocessing import LabelEncoder\n",
    "import time\n",
    "\n",
    "stockdata_path = './stockdata'\n",
    "mode = \"all\"\n",
    "train_path = './stockdata/m_train'\n",
    "test_path = './stockdata/m_test'\n",
    "is_download = False\n",
    "\n",
    "def feature_engineer(train, test):\n",
    "    train_len = len(train)\n",
    "    data = pd.concat((train, test), sort=False).reset_index(drop=True)\n",
    "    \n",
    "    stock_industry = pd.read_csv(\"stock_industry.csv\", encoding=\"gbk\")\n",
    "    from sklearn.preprocessing import LabelEncoder\n",
    "    lbe = LabelEncoder()\n",
    "    stock_industry['industry'] = lbe.fit_transform(stock_industry['industry'])\n",
    "    data = pd.merge(data, stock_industry[['code', 'industry']], how='left', on='code')\n",
    "    \n",
    "    for name in tqdm(['close', 'volume', 'amount', 'turn', 'pctChg']):\n",
    "        for day in ['7', '30']:\n",
    "            rolling = data.groupby('code')[f'{name}'].rolling(window=int(day), center=False)\n",
    "            data[f'{name}_rolling_{day}_mean'] = rolling.mean().reset_index(drop=True)\n",
    "            data[f'{name}_rolling_{day}_max'] = rolling.max().reset_index(drop=True)\n",
    "            data[f'{name}_rolling_{day}_min'] = rolling.min().reset_index(drop=True)\n",
    "            data[f'{name}_rolling_{day}_sum'] = rolling.sum().reset_index(drop=True)\n",
    "            data[f'{name}_rolling_{day}_median'] = rolling.median().reset_index(drop=True)\n",
    "            data[f'{name}_rolling_{day}_skew'] = rolling.skew().reset_index(drop=True)\n",
    "            data[f'{name}_rolling_{day}_kurt'] = rolling.kurt().reset_index(drop=True)\n",
    "            data[f'{name}_rolling_{day}_std'] = rolling.std().reset_index(drop=True)\n",
    "#             data[f'{name}_rolling_{day}_mad'] = rolling.mad()\n",
    "#             data[f'{name}_rolling_{day}_autocorr1'] = rolling.autocorr(1)\n",
    "#             data[f'{name}_rolling_{day}_autocorr2'] = rolling.autocorr(2)\n",
    "    \n",
    "            \n",
    "    \n",
    "    return data.iloc[:train_len].reset_index(drop=True), data.iloc[train_len:].reset_index(drop=True)\n",
    "\n",
    "def download(is_download=False):\n",
    "    if is_download:\n",
    "        mkdir(train_path)\n",
    "        downloader = Downloader(train_path, \n",
    "                                date_start='1990-12-19', \n",
    "                                date_end='2022-05-23', \n",
    "                                frequency='m',\n",
    "                                mode=mode)\n",
    "        downloader.run()\n",
    "\n",
    "        mkdir(test_path)\n",
    "        downloader = Downloader(test_path, \n",
    "                                date_start='2022-05-23', \n",
    "                                date_end='2022-07-23', \n",
    "                                frequency='m',\n",
    "                                mode=mode)\n",
    "        downloader.run()\n",
    "    return\n",
    "        \n",
    "def df_concat(csv_path):\n",
    "    df_arr = []\n",
    "    for path in tqdm(os.listdir(csv_path)):\n",
    "        try:\n",
    "            temp = pd.read_csv(csv_path + '/' + path, engine='python')\n",
    "            df_arr.append(temp)\n",
    "        except:\n",
    "            pass\n",
    "    return pd.concat(df_arr)"
   ]
  },
  {
   "cell_type": "code",
   "execution_count": 7,
   "id": "0cf54902-2b45-4f04-83d4-d097102aa466",
   "metadata": {},
   "outputs": [],
   "source": [
    "download(is_download)\n",
    "\n",
    "train = df_concat(train_path)\n",
    "test = df_concat(test_path)\n",
    "\n",
    "train, test = feature_engineer(train, test)\n",
    "\n",
    "lbe = LabelEncoder()\n",
    "train['code'] = lbe.fit_transform(train['code'])\n",
    "\n",
    "lbe = LabelEncoder()\n",
    "test['code'] = lbe.fit_transform(test['code'])\n",
    "\n",
    "train['label'] = [0 if x>0 else 1 for x in (train.close - train.shift(-1).close)]\n",
    "test['label'] = [0 if x>0 else 1 for x in (test.close - test.shift(-1).close)]\n",
    "train.to_csv(stockdata_path + '/' + 'm_train.csv', index=False)\n",
    "test.to_csv(stockdata_path + '/' + 'm_test.csv', index=False)"
   ]
  },
  {
   "cell_type": "code",
   "execution_count": 3,
   "id": "b1a98391-5f7e-4b79-9b70-f8a34f364c98",
   "metadata": {},
   "outputs": [],
   "source": [
    "# 如果数据已经存在"
   ]
  },
  {
   "cell_type": "code",
   "execution_count": 5,
   "id": "f3b34e17-8fea-4a1d-83c5-b9faf1834de4",
   "metadata": {},
   "outputs": [],
   "source": [
    "train = pd.read_csv(stockdata_path + '/' + 'm_train.csv', engine='python', nrows=10000)"
   ]
  },
  {
   "cell_type": "code",
   "execution_count": 9,
   "id": "50f84f55-71c0-4d8c-bf37-0ee2b948bbd8",
   "metadata": {},
   "outputs": [],
   "source": [
    "train[\"timestamp\"] = train[\"date\"].apply(lambda x: time.mktime(time.strptime(x,\"%Y-%m-%d\")))"
   ]
  },
  {
   "cell_type": "code",
   "execution_count": 10,
   "id": "c83de528-39ca-4432-ab8b-67abec4738f6",
   "metadata": {},
   "outputs": [],
   "source": [
    "date_threshold = time.mktime(time.strptime('2022-01-01',\"%Y-%m-%d\"))\n",
    "train, test = train[train['timestamp']<=date_threshold], train[train['timestamp']>date_threshold]"
   ]
  },
  {
   "cell_type": "code",
   "execution_count": 12,
   "id": "87619a7a-ea46-4293-9f04-4cd199287795",
   "metadata": {},
   "outputs": [],
   "source": [
    "ycol = 'label'\n",
    "# feature_names = list(\n",
    "#     filter(lambda x: x not in [ycol, 'date', '', 'Unnamed: 0', 'timestamp'], train.columns))\n",
    "feature_names = ['code','open','high','low','close','volume','amount', 'pctChg', 'industry', 'turn']"
   ]
  },
  {
   "cell_type": "code",
   "execution_count": 26,
   "id": "79e50eb6-0b4a-411c-9a15-9d87e333f1ff",
   "metadata": {},
   "outputs": [
    {
     "name": "stderr",
     "output_type": "stream",
     "text": [
      "Custom logger is already specified. Specify more than one logger at same time is not thread safe."
     ]
    },
    {
     "ename": "CatBoostError",
     "evalue": "catboost/libs/data/model_dataset_compatibility.cpp:81: At position 8 should be feature with name turn (found industry).",
     "output_type": "error",
     "traceback": [
      "\u001b[0;31m---------------------------------------------------------------------------\u001b[0m",
      "\u001b[0;31mCatBoostError\u001b[0m                             Traceback (most recent call last)",
      "\u001b[0;32m<ipython-input-26-3f10ad310cb4>\u001b[0m in \u001b[0;36m<module>\u001b[0;34m\u001b[0m\n\u001b[1;32m     18\u001b[0m                       \u001b[0meval_set\u001b[0m\u001b[0;34m=\u001b[0m\u001b[0mval_pool\u001b[0m\u001b[0;34m,\u001b[0m\u001b[0;34m\u001b[0m\u001b[0;34m\u001b[0m\u001b[0m\n\u001b[1;32m     19\u001b[0m                       \u001b[0minit_model\u001b[0m\u001b[0;34m=\u001b[0m\u001b[0;34m'cb_month.model'\u001b[0m\u001b[0;34m,\u001b[0m \u001b[0;31m# 如果init_model不为None，那么就是在init_model基础上接着训练\u001b[0m\u001b[0;34m\u001b[0m\u001b[0;34m\u001b[0m\u001b[0m\n\u001b[0;32m---> 20\u001b[0;31m                       verbose=200)\n\u001b[0m\u001b[1;32m     21\u001b[0m \u001b[0;34m\u001b[0m\u001b[0m\n\u001b[1;32m     22\u001b[0m \u001b[0;34m\u001b[0m\u001b[0m\n",
      "\u001b[0;32m~/miniconda3/lib/python3.7/site-packages/catboost/core.py\u001b[0m in \u001b[0;36mtrain\u001b[0;34m(pool, params, dtrain, logging_level, verbose, iterations, num_boost_round, evals, eval_set, plot, verbose_eval, metric_period, early_stopping_rounds, save_snapshot, snapshot_file, snapshot_interval, init_model, log_cout, log_cerr)\u001b[0m\n\u001b[1;32m   5891\u001b[0m               \u001b[0mearly_stopping_rounds\u001b[0m\u001b[0;34m=\u001b[0m\u001b[0mearly_stopping_rounds\u001b[0m\u001b[0;34m,\u001b[0m \u001b[0msave_snapshot\u001b[0m\u001b[0;34m=\u001b[0m\u001b[0msave_snapshot\u001b[0m\u001b[0;34m,\u001b[0m\u001b[0;34m\u001b[0m\u001b[0;34m\u001b[0m\u001b[0m\n\u001b[1;32m   5892\u001b[0m               \u001b[0msnapshot_file\u001b[0m\u001b[0;34m=\u001b[0m\u001b[0msnapshot_file\u001b[0m\u001b[0;34m,\u001b[0m \u001b[0msnapshot_interval\u001b[0m\u001b[0;34m=\u001b[0m\u001b[0msnapshot_interval\u001b[0m\u001b[0;34m,\u001b[0m \u001b[0minit_model\u001b[0m\u001b[0;34m=\u001b[0m\u001b[0minit_model\u001b[0m\u001b[0;34m,\u001b[0m\u001b[0;34m\u001b[0m\u001b[0;34m\u001b[0m\u001b[0m\n\u001b[0;32m-> 5893\u001b[0;31m               log_cout=log_cout, log_cerr=log_cerr)\n\u001b[0m\u001b[1;32m   5894\u001b[0m     \u001b[0;32mreturn\u001b[0m \u001b[0mmodel\u001b[0m\u001b[0;34m\u001b[0m\u001b[0;34m\u001b[0m\u001b[0m\n\u001b[1;32m   5895\u001b[0m \u001b[0;34m\u001b[0m\u001b[0m\n",
      "\u001b[0;32m~/miniconda3/lib/python3.7/site-packages/catboost/core.py\u001b[0m in \u001b[0;36mfit\u001b[0;34m(self, X, y, cat_features, text_features, embedding_features, pairs, sample_weight, group_id, group_weight, subgroup_id, pairs_weight, baseline, use_best_model, eval_set, verbose, logging_level, plot, column_description, verbose_eval, metric_period, silent, early_stopping_rounds, save_snapshot, snapshot_file, snapshot_interval, init_model, callbacks, log_cout, log_cerr)\u001b[0m\n\u001b[1;32m   2144\u001b[0m                          \u001b[0mpairs_weight\u001b[0m\u001b[0;34m,\u001b[0m \u001b[0mbaseline\u001b[0m\u001b[0;34m,\u001b[0m \u001b[0muse_best_model\u001b[0m\u001b[0;34m,\u001b[0m \u001b[0meval_set\u001b[0m\u001b[0;34m,\u001b[0m \u001b[0mverbose\u001b[0m\u001b[0;34m,\u001b[0m \u001b[0mlogging_level\u001b[0m\u001b[0;34m,\u001b[0m \u001b[0mplot\u001b[0m\u001b[0;34m,\u001b[0m\u001b[0;34m\u001b[0m\u001b[0;34m\u001b[0m\u001b[0m\n\u001b[1;32m   2145\u001b[0m                          \u001b[0mcolumn_description\u001b[0m\u001b[0;34m,\u001b[0m \u001b[0mverbose_eval\u001b[0m\u001b[0;34m,\u001b[0m \u001b[0mmetric_period\u001b[0m\u001b[0;34m,\u001b[0m \u001b[0msilent\u001b[0m\u001b[0;34m,\u001b[0m \u001b[0mearly_stopping_rounds\u001b[0m\u001b[0;34m,\u001b[0m\u001b[0;34m\u001b[0m\u001b[0;34m\u001b[0m\u001b[0m\n\u001b[0;32m-> 2146\u001b[0;31m                          save_snapshot, snapshot_file, snapshot_interval, init_model, callbacks, log_cout, log_cerr)\n\u001b[0m\u001b[1;32m   2147\u001b[0m \u001b[0;34m\u001b[0m\u001b[0m\n\u001b[1;32m   2148\u001b[0m     \u001b[0;32mdef\u001b[0m \u001b[0m_process_predict_input_data\u001b[0m\u001b[0;34m(\u001b[0m\u001b[0mself\u001b[0m\u001b[0;34m,\u001b[0m \u001b[0mdata\u001b[0m\u001b[0;34m,\u001b[0m \u001b[0mparent_method_name\u001b[0m\u001b[0;34m,\u001b[0m \u001b[0mthread_count\u001b[0m\u001b[0;34m,\u001b[0m \u001b[0mlabel\u001b[0m\u001b[0;34m=\u001b[0m\u001b[0;32mNone\u001b[0m\u001b[0;34m)\u001b[0m\u001b[0;34m:\u001b[0m\u001b[0;34m\u001b[0m\u001b[0;34m\u001b[0m\u001b[0m\n",
      "\u001b[0;32m~/miniconda3/lib/python3.7/site-packages/catboost/core.py\u001b[0m in \u001b[0;36m_fit\u001b[0;34m(self, X, y, cat_features, text_features, embedding_features, pairs, sample_weight, group_id, group_weight, subgroup_id, pairs_weight, baseline, use_best_model, eval_set, verbose, logging_level, plot, column_description, verbose_eval, metric_period, silent, early_stopping_rounds, save_snapshot, snapshot_file, snapshot_interval, init_model, callbacks, log_cout, log_cerr)\u001b[0m\n\u001b[1;32m   1997\u001b[0m                 \u001b[0mparams\u001b[0m\u001b[0;34m,\u001b[0m\u001b[0;34m\u001b[0m\u001b[0;34m\u001b[0m\u001b[0m\n\u001b[1;32m   1998\u001b[0m                 \u001b[0mallow_clear_pool\u001b[0m\u001b[0;34m,\u001b[0m\u001b[0;34m\u001b[0m\u001b[0;34m\u001b[0m\u001b[0m\n\u001b[0;32m-> 1999\u001b[0;31m                 \u001b[0mtrain_params\u001b[0m\u001b[0;34m[\u001b[0m\u001b[0;34m\"init_model\"\u001b[0m\u001b[0;34m]\u001b[0m\u001b[0;34m\u001b[0m\u001b[0;34m\u001b[0m\u001b[0m\n\u001b[0m\u001b[1;32m   2000\u001b[0m             )\n\u001b[1;32m   2001\u001b[0m \u001b[0;34m\u001b[0m\u001b[0m\n",
      "\u001b[0;32m~/miniconda3/lib/python3.7/site-packages/catboost/core.py\u001b[0m in \u001b[0;36m_train\u001b[0;34m(self, train_pool, test_pool, params, allow_clear_pool, init_model)\u001b[0m\n\u001b[1;32m   1423\u001b[0m \u001b[0;34m\u001b[0m\u001b[0m\n\u001b[1;32m   1424\u001b[0m     \u001b[0;32mdef\u001b[0m \u001b[0m_train\u001b[0m\u001b[0;34m(\u001b[0m\u001b[0mself\u001b[0m\u001b[0;34m,\u001b[0m \u001b[0mtrain_pool\u001b[0m\u001b[0;34m,\u001b[0m \u001b[0mtest_pool\u001b[0m\u001b[0;34m,\u001b[0m \u001b[0mparams\u001b[0m\u001b[0;34m,\u001b[0m \u001b[0mallow_clear_pool\u001b[0m\u001b[0;34m,\u001b[0m \u001b[0minit_model\u001b[0m\u001b[0;34m)\u001b[0m\u001b[0;34m:\u001b[0m\u001b[0;34m\u001b[0m\u001b[0;34m\u001b[0m\u001b[0m\n\u001b[0;32m-> 1425\u001b[0;31m         \u001b[0mself\u001b[0m\u001b[0;34m.\u001b[0m\u001b[0m_object\u001b[0m\u001b[0;34m.\u001b[0m\u001b[0m_train\u001b[0m\u001b[0;34m(\u001b[0m\u001b[0mtrain_pool\u001b[0m\u001b[0;34m,\u001b[0m \u001b[0mtest_pool\u001b[0m\u001b[0;34m,\u001b[0m \u001b[0mparams\u001b[0m\u001b[0;34m,\u001b[0m \u001b[0mallow_clear_pool\u001b[0m\u001b[0;34m,\u001b[0m \u001b[0minit_model\u001b[0m\u001b[0;34m.\u001b[0m\u001b[0m_object\u001b[0m \u001b[0;32mif\u001b[0m \u001b[0minit_model\u001b[0m \u001b[0;32melse\u001b[0m \u001b[0;32mNone\u001b[0m\u001b[0;34m)\u001b[0m\u001b[0;34m\u001b[0m\u001b[0;34m\u001b[0m\u001b[0m\n\u001b[0m\u001b[1;32m   1426\u001b[0m         \u001b[0mself\u001b[0m\u001b[0;34m.\u001b[0m\u001b[0m_set_trained_model_attributes\u001b[0m\u001b[0;34m(\u001b[0m\u001b[0;34m)\u001b[0m\u001b[0;34m\u001b[0m\u001b[0;34m\u001b[0m\u001b[0m\n\u001b[1;32m   1427\u001b[0m \u001b[0;34m\u001b[0m\u001b[0m\n",
      "\u001b[0;32m_catboost.pyx\u001b[0m in \u001b[0;36m_catboost._CatBoost._train\u001b[0;34m()\u001b[0m\n",
      "\u001b[0;32m_catboost.pyx\u001b[0m in \u001b[0;36m_catboost._CatBoost._train\u001b[0;34m()\u001b[0m\n",
      "\u001b[0;31mCatBoostError\u001b[0m: catboost/libs/data/model_dataset_compatibility.cpp:81: At position 8 should be feature with name turn (found industry)."
     ]
    }
   ],
   "source": [
    "params = {'n_estimators':5000,\n",
    "      'learning_rate': 0.05,\n",
    "      'max_depth': 7,\n",
    "      'early_stopping_rounds':1000,\n",
    "      'loss_function':'Logloss',\n",
    "      'max_bin':512,\n",
    "      'subsample':0.8,\n",
    "      'random_seed':np.random.randint(0,2021),\n",
    "      'eval_metric':'AUC',}\n",
    "\n",
    "\n",
    "train_pool = cb.Pool(data=train[feature_names], label=train[ycol])\n",
    "val_pool = cb.Pool(data=test[feature_names], label=test[ycol])\n",
    "lgb_model = cb.train(params=params,\n",
    "                     pool=train_pool,\n",
    "                     eval_set=val_pool,\n",
    "                     init_model='cb_month.model', # 如果init_model不为None，那么就是在init_model基础上接着训练\n",
    "                     verbose=200)\n",
    "\n",
    "\n",
    "df_importance = pd.DataFrame({\n",
    "    'column': feature_names,\n",
    "    'importance': lgb_model.feature_importances_,\n",
    "})\n",
    "\n",
    "# lgb_model.save_model(f'cb_{frequency}.model')"
   ]
  },
  {
   "cell_type": "code",
   "execution_count": 10,
   "id": "55b13c9a-41f6-469a-983b-b9dc5a52935b",
   "metadata": {},
   "outputs": [],
   "source": [
    "lgb_model.save_model(f'cb_month.model')"
   ]
  },
  {
   "cell_type": "code",
   "execution_count": 56,
   "id": "f24f46f4-2fe4-4374-bd33-2b775aafb012",
   "metadata": {},
   "outputs": [],
   "source": [
    "df_importance = df_importance.sort_values(by='importance')"
   ]
  },
  {
   "cell_type": "code",
   "execution_count": 57,
   "id": "3fa39468-1d08-471f-84c3-f4d3141c4333",
   "metadata": {},
   "outputs": [],
   "source": [
    "df_importance.to_csv('df_importance.csv', index=False)"
   ]
  },
  {
   "cell_type": "code",
   "execution_count": null,
   "id": "ccf03998-1344-491f-a2d1-c7b81afc4005",
   "metadata": {},
   "outputs": [],
   "source": []
  }
 ],
 "metadata": {
  "kernelspec": {
   "display_name": "Python 3",
   "language": "python",
   "name": "python3"
  },
  "language_info": {
   "codemirror_mode": {
    "name": "ipython",
    "version": 3
   },
   "file_extension": ".py",
   "mimetype": "text/x-python",
   "name": "python",
   "nbconvert_exporter": "python",
   "pygments_lexer": "ipython3",
   "version": "3.7.1"
  }
 },
 "nbformat": 4,
 "nbformat_minor": 5
}
