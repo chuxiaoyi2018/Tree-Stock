{
 "cells": [
  {
   "cell_type": "code",
   "execution_count": 2,
   "id": "a664db11-1b6b-4a86-a2bc-5564c25f0669",
   "metadata": {},
   "outputs": [],
   "source": [
    "from get_stock_data import Downloader, mkdir\n",
    "import os\n",
    "from tqdm import tqdm\n",
    "import pandas as pd\n",
    "import numpy as np\n",
    "import catboost as cb\n",
    "import datetime\n",
    "\n",
    "# 获取全部股票的日K线数据\n",
    "mkdir('stockdata/d_data')\n",
    "raw_train_path = 'stockdata/d_train'\n",
    "raw_test_path = 'stockdata/d_test'\n",
    "train_path = 'stockdata/d_data/train.csv'\n",
    "test_path = 'stockdata/d_data/test.csv'\n",
    "mode = 'train'"
   ]
  },
  {
   "cell_type": "code",
   "execution_count": 3,
   "id": "84a12b3c-3c10-439f-9348-ceed20266795",
   "metadata": {},
   "outputs": [],
   "source": [
    "if mode == 'debug':\n",
    "    train = pd.read_csv(train_path, nrows=100000)\n",
    "    test = pd.read_csv(test_path, nrows=100000)\n",
    "else:\n",
    "    train = pd.read_csv(train_path)\n",
    "    test = pd.read_csv(test_path)"
   ]
  },
  {
   "cell_type": "code",
   "execution_count": 4,
   "id": "f9a350f7-d421-43a7-8c38-0efe514a4dfb",
   "metadata": {},
   "outputs": [],
   "source": [
    "train.date = train.date.apply(lambda x: int(x.replace('-', '')))\n",
    "test.date = test.date.apply(lambda x: int(x.replace('-', '')))"
   ]
  },
  {
   "cell_type": "code",
   "execution_count": 5,
   "id": "8ad77c9c-6598-405a-8ebd-326412bfdffd",
   "metadata": {},
   "outputs": [],
   "source": [
    "train = train[train['date'] >= 20210101].reset_index(drop=True)"
   ]
  },
  {
   "cell_type": "code",
   "execution_count": 6,
   "id": "3b3980ff-9865-4fa0-a0c7-1ed9798dada3",
   "metadata": {},
   "outputs": [],
   "source": [
    "train.to_csv('stockdata/d_data/train_1year.csv', index=False)"
   ]
  },
  {
   "cell_type": "code",
   "execution_count": 5,
   "id": "7a2e5fec-ffd5-4556-8c87-17aa6f5d353b",
   "metadata": {},
   "outputs": [],
   "source": [
    "def feature_engineer(train, test):\n",
    "    train_len = len(train)\n",
    "    data = pd.concat((train, test), sort=False).reset_index(drop=True)\n",
    "    data = data.sort_values(by=['code', 'date'])\n",
    "    \n",
    "    stock_industry = pd.read_csv(\"stock_industry.csv\", encoding=\"gbk\")\n",
    "    from sklearn.preprocessing import LabelEncoder\n",
    "    lbe = LabelEncoder()\n",
    "    stock_industry['industry'] = lbe.fit_transform(stock_industry['industry'])\n",
    "    data = pd.merge(data, stock_industry[['code', 'industry']], how='left', on='code')\n",
    "\n",
    "    # alpha net \n",
    "    length = 30\n",
    "    for name in tqdm(['open', 'high', 'close', 'volume', 'amount', 'adjustflag', 'turn', 'pctChg', 'peTTM', 'psTTM', 'pcfNcfTTM', 'pbMRQ']):\n",
    "#     for name in tqdm(['open']):\n",
    "        roll_feature = []\n",
    "        for i, group in data.groupby('code', sort=False)[name]:\n",
    "            values = group.tolist()\n",
    "            values = [0]*(length - 1) + values\n",
    "            roll_feature = roll_feature + [values[i:i+length] for i in range(len(group))]\n",
    "        data = pd.concat([data, pd.DataFrame(roll_feature, columns=[f'{name}_{i}' for i in range(length)])], axis=1).reset_index(drop=True)\n",
    "    return data.iloc[:train_len].reset_index(drop=True), data.iloc[train_len:].reset_index(drop=True)"
   ]
  },
  {
   "cell_type": "code",
   "execution_count": 6,
   "id": "5eca384c-84a6-42d8-9733-3d18d4fe7773",
   "metadata": {},
   "outputs": [
    {
     "name": "stderr",
     "output_type": "stream",
     "text": [
      "100%|██████████| 12/12 [00:42<00:00,  3.52s/it]\n"
     ]
    }
   ],
   "source": [
    "train, test = feature_engineer(train, test)\n",
    "\n",
    "# f_train_path = 'stockdata/d_data/f_train_debug.csv'\n",
    "# f_test_path = 'stockdata/d_data/f_test_debug.csv'\n",
    "# train.to_csv(f_train_path, index=False)\n",
    "# test.to_csv(f_test_path, index=False)"
   ]
  },
  {
   "cell_type": "code",
   "execution_count": 9,
   "id": "0a81867b-3105-4b24-8b86-95a55deaae1b",
   "metadata": {},
   "outputs": [],
   "source": [
    "train['label'] = train.groupby('code').close.transform(lambda x:(x - x.shift(-14)) / (x + 1e-7) )\n",
    "test['label'] = test.groupby('code').close.transform(lambda x:(x - x.shift(-14)) / (x + 1e-7) )\n",
    "\n",
    "train = train.dropna(subset = ['label'], inplace=False)\n",
    "test = test.dropna(subset = ['label'], inplace=False)\n",
    "\n",
    "train = train.replace(np.nan, 0)\n",
    "test = test.replace(np.nan, 0)\n",
    "\n",
    "ycol = 'label'\n",
    "feature_names = list(\n",
    "    filter(lambda x: x not in [ycol, 'code', 'date', ''], train.columns))\n",
    "\n",
    "# print(feature_names)"
   ]
  },
  {
   "cell_type": "code",
   "execution_count": 11,
   "id": "e9b44194-86e7-4cd8-bdc8-025cbe16f898",
   "metadata": {},
   "outputs": [],
   "source": [
    "quantile_30, quantile_70 = train.label.quantile([0.3, 0.7]).values"
   ]
  },
  {
   "cell_type": "code",
   "execution_count": 12,
   "id": "e64a0232-75dc-4375-83be-ab5e239bfc0c",
   "metadata": {},
   "outputs": [],
   "source": [
    "def label_quantile(x):\n",
    "    if x<quantile_30:\n",
    "        return 0\n",
    "    elif x<quantile_70:\n",
    "        return 1\n",
    "    else:\n",
    "        return 2"
   ]
  },
  {
   "cell_type": "code",
   "execution_count": 13,
   "id": "1cbcb7b6-ddfb-4b9b-b45a-f8131adb8a2e",
   "metadata": {},
   "outputs": [],
   "source": [
    "train.label = train.label.apply(label_quantile)\n",
    "test.label = test.label.apply(label_quantile)"
   ]
  },
  {
   "cell_type": "code",
   "execution_count": 16,
   "id": "4f83ac5e-4b0d-4d4c-950f-7e2f87d9c8a2",
   "metadata": {},
   "outputs": [
    {
     "name": "stderr",
     "output_type": "stream",
     "text": [
      "Custom logger is already specified. Specify more than one logger at same time is not thread safe.Warning: less than 75% gpu memory available for training. Free: 4266.75 Total: 15109.75\n",
      "AUC is not implemented on GPU. Will use CPU for metric computation, this could significantly affect learning time\n"
     ]
    },
    {
     "name": "stdout",
     "output_type": "stream",
     "text": [
      "0:\ttest: 0.5757545\tbest: 0.5757545 (0)\ttotal: 382ms\tremaining: 31m 51s\n"
     ]
    },
    {
     "ename": "KeyboardInterrupt",
     "evalue": "",
     "output_type": "error",
     "traceback": [
      "\u001b[0;31m---------------------------------------------------------------------------\u001b[0m",
      "\u001b[0;31mKeyboardInterrupt\u001b[0m                         Traceback (most recent call last)",
      "\u001b[0;32m<ipython-input-16-93ae6d87c840>\u001b[0m in \u001b[0;36m<module>\u001b[0;34m\u001b[0m\n\u001b[1;32m     23\u001b[0m                       \u001b[0meval_set\u001b[0m\u001b[0;34m=\u001b[0m\u001b[0;34m(\u001b[0m\u001b[0mX_val\u001b[0m\u001b[0;34m,\u001b[0m \u001b[0mY_val\u001b[0m\u001b[0;34m)\u001b[0m\u001b[0;34m,\u001b[0m\u001b[0;34m\u001b[0m\u001b[0;34m\u001b[0m\u001b[0m\n\u001b[1;32m     24\u001b[0m                       \u001b[0mplot\u001b[0m\u001b[0;34m=\u001b[0m\u001b[0;32mFalse\u001b[0m\u001b[0;34m,\u001b[0m\u001b[0;34m\u001b[0m\u001b[0;34m\u001b[0m\u001b[0m\n\u001b[0;32m---> 25\u001b[0;31m                       verbose=500)\n\u001b[0m\u001b[1;32m     26\u001b[0m \u001b[0;34m\u001b[0m\u001b[0m\n\u001b[1;32m     27\u001b[0m \u001b[0;34m\u001b[0m\u001b[0m\n",
      "\u001b[0;32m~/miniconda3/lib/python3.7/site-packages/catboost/core.py\u001b[0m in \u001b[0;36mfit\u001b[0;34m(self, X, y, cat_features, text_features, embedding_features, sample_weight, baseline, use_best_model, eval_set, verbose, logging_level, plot, column_description, verbose_eval, metric_period, silent, early_stopping_rounds, save_snapshot, snapshot_file, snapshot_interval, init_model, callbacks, log_cout, log_cerr)\u001b[0m\n\u001b[1;32m   4673\u001b[0m         self._fit(X, y, cat_features, text_features, embedding_features, None, sample_weight, None, None, None, None, baseline, use_best_model,\n\u001b[1;32m   4674\u001b[0m                   \u001b[0meval_set\u001b[0m\u001b[0;34m,\u001b[0m \u001b[0mverbose\u001b[0m\u001b[0;34m,\u001b[0m \u001b[0mlogging_level\u001b[0m\u001b[0;34m,\u001b[0m \u001b[0mplot\u001b[0m\u001b[0;34m,\u001b[0m \u001b[0mcolumn_description\u001b[0m\u001b[0;34m,\u001b[0m \u001b[0mverbose_eval\u001b[0m\u001b[0;34m,\u001b[0m \u001b[0mmetric_period\u001b[0m\u001b[0;34m,\u001b[0m\u001b[0;34m\u001b[0m\u001b[0;34m\u001b[0m\u001b[0m\n\u001b[0;32m-> 4675\u001b[0;31m                   silent, early_stopping_rounds, save_snapshot, snapshot_file, snapshot_interval, init_model, callbacks, log_cout, log_cerr)\n\u001b[0m\u001b[1;32m   4676\u001b[0m         \u001b[0;32mreturn\u001b[0m \u001b[0mself\u001b[0m\u001b[0;34m\u001b[0m\u001b[0;34m\u001b[0m\u001b[0m\n\u001b[1;32m   4677\u001b[0m \u001b[0;34m\u001b[0m\u001b[0m\n",
      "\u001b[0;32m~/miniconda3/lib/python3.7/site-packages/catboost/core.py\u001b[0m in \u001b[0;36m_fit\u001b[0;34m(self, X, y, cat_features, text_features, embedding_features, pairs, sample_weight, group_id, group_weight, subgroup_id, pairs_weight, baseline, use_best_model, eval_set, verbose, logging_level, plot, column_description, verbose_eval, metric_period, silent, early_stopping_rounds, save_snapshot, snapshot_file, snapshot_interval, init_model, callbacks, log_cout, log_cerr)\u001b[0m\n\u001b[1;32m   1997\u001b[0m                 \u001b[0mparams\u001b[0m\u001b[0;34m,\u001b[0m\u001b[0;34m\u001b[0m\u001b[0;34m\u001b[0m\u001b[0m\n\u001b[1;32m   1998\u001b[0m                 \u001b[0mallow_clear_pool\u001b[0m\u001b[0;34m,\u001b[0m\u001b[0;34m\u001b[0m\u001b[0;34m\u001b[0m\u001b[0m\n\u001b[0;32m-> 1999\u001b[0;31m                 \u001b[0mtrain_params\u001b[0m\u001b[0;34m[\u001b[0m\u001b[0;34m\"init_model\"\u001b[0m\u001b[0;34m]\u001b[0m\u001b[0;34m\u001b[0m\u001b[0;34m\u001b[0m\u001b[0m\n\u001b[0m\u001b[1;32m   2000\u001b[0m             )\n\u001b[1;32m   2001\u001b[0m \u001b[0;34m\u001b[0m\u001b[0m\n",
      "\u001b[0;32m~/miniconda3/lib/python3.7/site-packages/catboost/core.py\u001b[0m in \u001b[0;36m_train\u001b[0;34m(self, train_pool, test_pool, params, allow_clear_pool, init_model)\u001b[0m\n\u001b[1;32m   1423\u001b[0m \u001b[0;34m\u001b[0m\u001b[0m\n\u001b[1;32m   1424\u001b[0m     \u001b[0;32mdef\u001b[0m \u001b[0m_train\u001b[0m\u001b[0;34m(\u001b[0m\u001b[0mself\u001b[0m\u001b[0;34m,\u001b[0m \u001b[0mtrain_pool\u001b[0m\u001b[0;34m,\u001b[0m \u001b[0mtest_pool\u001b[0m\u001b[0;34m,\u001b[0m \u001b[0mparams\u001b[0m\u001b[0;34m,\u001b[0m \u001b[0mallow_clear_pool\u001b[0m\u001b[0;34m,\u001b[0m \u001b[0minit_model\u001b[0m\u001b[0;34m)\u001b[0m\u001b[0;34m:\u001b[0m\u001b[0;34m\u001b[0m\u001b[0;34m\u001b[0m\u001b[0m\n\u001b[0;32m-> 1425\u001b[0;31m         \u001b[0mself\u001b[0m\u001b[0;34m.\u001b[0m\u001b[0m_object\u001b[0m\u001b[0;34m.\u001b[0m\u001b[0m_train\u001b[0m\u001b[0;34m(\u001b[0m\u001b[0mtrain_pool\u001b[0m\u001b[0;34m,\u001b[0m \u001b[0mtest_pool\u001b[0m\u001b[0;34m,\u001b[0m \u001b[0mparams\u001b[0m\u001b[0;34m,\u001b[0m \u001b[0mallow_clear_pool\u001b[0m\u001b[0;34m,\u001b[0m \u001b[0minit_model\u001b[0m\u001b[0;34m.\u001b[0m\u001b[0m_object\u001b[0m \u001b[0;32mif\u001b[0m \u001b[0minit_model\u001b[0m \u001b[0;32melse\u001b[0m \u001b[0;32mNone\u001b[0m\u001b[0;34m)\u001b[0m\u001b[0;34m\u001b[0m\u001b[0;34m\u001b[0m\u001b[0m\n\u001b[0m\u001b[1;32m   1426\u001b[0m         \u001b[0mself\u001b[0m\u001b[0;34m.\u001b[0m\u001b[0m_set_trained_model_attributes\u001b[0m\u001b[0;34m(\u001b[0m\u001b[0;34m)\u001b[0m\u001b[0;34m\u001b[0m\u001b[0;34m\u001b[0m\u001b[0m\n\u001b[1;32m   1427\u001b[0m \u001b[0;34m\u001b[0m\u001b[0m\n",
      "\u001b[0;32m_catboost.pyx\u001b[0m in \u001b[0;36m_catboost._CatBoost._train\u001b[0;34m()\u001b[0m\n",
      "\u001b[0;32m_catboost.pyx\u001b[0m in \u001b[0;36m_catboost._CatBoost._train\u001b[0;34m()\u001b[0m\n",
      "\u001b[0;31mKeyboardInterrupt\u001b[0m: "
     ]
    }
   ],
   "source": [
    "params = {'n_estimators':5000,\n",
    "      'learning_rate': 0.05,\n",
    "      'max_depth': 7,\n",
    "      'early_stopping_rounds':1000,\n",
    "      'loss_function':'MultiClass',\n",
    "       'classes_count':3,\n",
    "      'max_bin':512,\n",
    "#       'subsample':0.8,\n",
    "#       'bootstrap_type':'Poisson',\n",
    "      'random_seed':np.random.randint(0,2021)}\n",
    "\n",
    "model = cb.CatBoostClassifier(eval_metric=\"AUC\", task_type='CPU', **params)\n",
    "\n",
    "X_train = train[feature_names]\n",
    "Y_train = train[ycol]\n",
    "\n",
    "X_val = test[feature_names]\n",
    "Y_val = test[ycol]\n",
    "\n",
    "\n",
    "cat_model = model.fit(X_train,\n",
    "                      Y_train,\n",
    "                      eval_set=(X_val, Y_val),\n",
    "                      plot=False,\n",
    "                      verbose=500)\n",
    "\n",
    "\n",
    "df_importance = pd.DataFrame({\n",
    "    'column': feature_names,\n",
    "    'importance': cat_model.feature_importances_,\n",
    "})\n",
    "\n",
    "# cat_model.save_model(f'cb_{frequency}.model')"
   ]
  },
  {
   "cell_type": "code",
   "execution_count": null,
   "id": "4d74fe30-f316-4570-8fb4-bcf842c6d01a",
   "metadata": {},
   "outputs": [],
   "source": [
    "print(df_importance)"
   ]
  },
  {
   "cell_type": "code",
   "execution_count": null,
   "id": "42165a3e-0766-415b-9975-bc41f6353cf8",
   "metadata": {},
   "outputs": [],
   "source": [
    "cat_model.save_model(f'next_2week_alphanet30.model')"
   ]
  }
 ],
 "metadata": {
  "kernelspec": {
   "display_name": "Python 3",
   "language": "python",
   "name": "python3"
  },
  "language_info": {
   "codemirror_mode": {
    "name": "ipython",
    "version": 3
   },
   "file_extension": ".py",
   "mimetype": "text/x-python",
   "name": "python",
   "nbconvert_exporter": "python",
   "pygments_lexer": "ipython3",
   "version": "3.7.1"
  }
 },
 "nbformat": 4,
 "nbformat_minor": 5
}
