{
 "cells": [
  {
   "cell_type": "code",
   "execution_count": 1,
   "id": "a664db11-1b6b-4a86-a2bc-5564c25f0669",
   "metadata": {},
   "outputs": [],
   "source": [
    "from get_stock_data import Downloader, mkdir\n",
    "import os\n",
    "from tqdm import tqdm\n",
    "import pandas as pd\n",
    "import numpy as np\n",
    "import catboost as cb\n",
    "\n",
    "# 获取全部股票的日K线数据\n",
    "mkdir('stockdata/d_data')\n",
    "raw_train_path = 'stockdata/d_train'\n",
    "raw_test_path = 'stockdata/d_test'\n",
    "train_path = 'stockdata/d_data/train.csv'\n",
    "test_path = 'stockdata/d_data/test.csv'\n",
    "mode = 'train'"
   ]
  },
  {
   "cell_type": "code",
   "execution_count": 2,
   "id": "84a12b3c-3c10-439f-9348-ceed20266795",
   "metadata": {},
   "outputs": [],
   "source": [
    "if mode == 'debug':\n",
    "    train = pd.read_csv(train_path, nrows=100000)\n",
    "    test = pd.read_csv(test_path, nrows=100000)\n",
    "else:\n",
    "    train = pd.read_csv(train_path)\n",
    "    test = pd.read_csv(test_path)"
   ]
  },
  {
   "cell_type": "code",
   "execution_count": 3,
   "id": "d8a23668-9bad-4e47-9b43-f3d17efac233",
   "metadata": {},
   "outputs": [
    {
     "data": {
      "text/plain": [
       "array(['sh.600358', 'sz.002233', 'sh.600956', ..., 'sz.002361',\n",
       "       'sh.603080', 'sz.300065'], dtype=object)"
      ]
     },
     "execution_count": 3,
     "metadata": {},
     "output_type": "execute_result"
    }
   ],
   "source": [
    "train['code'].unique()"
   ]
  },
  {
   "cell_type": "code",
   "execution_count": 4,
   "id": "c53dfc72-1297-40f1-9d72-18544587ab33",
   "metadata": {},
   "outputs": [],
   "source": [
    "# train = train[train['code']=='sz.301136']\n",
    "# test = test[test['code']=='sz.301136']"
   ]
  },
  {
   "cell_type": "code",
   "execution_count": 5,
   "id": "7a2e5fec-ffd5-4556-8c87-17aa6f5d353b",
   "metadata": {},
   "outputs": [],
   "source": [
    "def feature_engineer(train, test):\n",
    "    train_len = len(train)\n",
    "    data = pd.concat((train, test), sort=False).reset_index(drop=True)\n",
    "    \n",
    "    stock_industry = pd.read_csv(\"stock_industry.csv\", encoding=\"gbk\")\n",
    "    from sklearn.preprocessing import LabelEncoder\n",
    "    lbe = LabelEncoder()\n",
    "    stock_industry['industry'] = lbe.fit_transform(stock_industry['industry'])\n",
    "    data = pd.merge(data, stock_industry[['code', 'industry']], how='left', on='code')\n",
    "    \n",
    "#     for name in tqdm(['close', 'volume', 'amount', 'turn', 'pctChg', 'pbMRQ']):\n",
    "#         for day in ['7', '30']:\n",
    "#             rolling = data.groupby['code'][f'{name}'].rolling(window=int(day), center=False)\n",
    "#             data[f'{name}_rolling_{day}_mean'] = rolling.mean().reset_index(drop=True)\n",
    "#             data[f'{name}_rolling_{day}_max'] = rolling.max().reset_index(drop=True)\n",
    "#             data[f'{name}_rolling_{day}_min'] = rolling.min().reset_index(drop=True)\n",
    "#             data[f'{name}_rolling_{day}_sum'] = rolling.sum().reset_index(drop=True)\n",
    "#             data[f'{name}_rolling_{day}_median'] = rolling.median().reset_index(drop=True)\n",
    "#             data[f'{name}_rolling_{day}_skew'] = rolling.skew().reset_index(drop=True)\n",
    "#             data[f'{name}_rolling_{day}_kurt'] = rolling.kurt().reset_index(drop=True)\n",
    "#             data[f'{name}_rolling_{day}_std'] = rolling.std().reset_index(drop=True)\n",
    "#             data[f'{name}_rolling_{day}_mad'] = rolling.mad()\n",
    "#             data[f'{name}_rolling_{day}_autocorr1'] = rolling.autocorr(1)\n",
    "#             data[f'{name}_rolling_{day}_autocorr2'] = rolling.autocorr(2)\n",
    "    \n",
    "            \n",
    "    \n",
    "    return data.iloc[:train_len].reset_index(drop=True), data.iloc[train_len:].reset_index(drop=True)"
   ]
  },
  {
   "cell_type": "code",
   "execution_count": null,
   "id": "5eca384c-84a6-42d8-9733-3d18d4fe7773",
   "metadata": {},
   "outputs": [],
   "source": [
    "train, test = feature_engineer(train, test)\n",
    "\n",
    "# f_train_path = 'stockdata/d_data/f_train_debug.csv'\n",
    "# f_test_path = 'stockdata/d_data/f_test_debug.csv'\n",
    "# train.to_csv(f_train_path, index=False)\n",
    "# test.to_csv(f_test_path, index=False)"
   ]
  },
  {
   "cell_type": "code",
   "execution_count": null,
   "id": "0a81867b-3105-4b24-8b86-95a55deaae1b",
   "metadata": {},
   "outputs": [],
   "source": [
    "train['label'] = train.groupby('code').close.transform(lambda x:(x - x.shift(-14)) / (x + 1e-7) )\n",
    "test['label'] = test.groupby('code').close.transform(lambda x:(x - x.shift(-14)) / (x + 1e-7) )\n",
    "\n",
    "train = train.dropna(subset = ['label'], inplace=False)\n",
    "test = test.dropna(subset = ['label'], inplace=False)\n",
    "\n",
    "train = train.replace(np.nan, 0)\n",
    "test = test.replace(np.nan, 0)\n",
    "\n",
    "ycol = 'label'\n",
    "feature_names = list(\n",
    "    filter(lambda x: x not in [ycol, 'code', 'date', ''], train.columns))\n",
    "\n",
    "# print(feature_names)"
   ]
  },
  {
   "cell_type": "code",
   "execution_count": null,
   "id": "e9b44194-86e7-4cd8-bdc8-025cbe16f898",
   "metadata": {},
   "outputs": [],
   "source": [
    "quantile_30, quantile_70 = train.label.quantile([0.3, 0.7]).values"
   ]
  },
  {
   "cell_type": "code",
   "execution_count": null,
   "id": "e64a0232-75dc-4375-83be-ab5e239bfc0c",
   "metadata": {},
   "outputs": [],
   "source": [
    "def label_quantile(x):\n",
    "    if x<quantile_30:\n",
    "        return 0\n",
    "    elif x<quantile_70:\n",
    "        return 1\n",
    "    else:\n",
    "        return 2"
   ]
  },
  {
   "cell_type": "code",
   "execution_count": null,
   "id": "1cbcb7b6-ddfb-4b9b-b45a-f8131adb8a2e",
   "metadata": {},
   "outputs": [],
   "source": [
    "train.label = train.label.apply(label_quantile)\n",
    "test.label = test.label.apply(label_quantile)"
   ]
  },
  {
   "cell_type": "code",
   "execution_count": null,
   "id": "28fd90a1-be7e-401d-8f66-ed65378739a0",
   "metadata": {},
   "outputs": [],
   "source": [
    "train.label"
   ]
  },
  {
   "cell_type": "code",
   "execution_count": null,
   "id": "7272dcf8-0bf1-44f2-92bf-1fe1b40b19e4",
   "metadata": {},
   "outputs": [],
   "source": [
    "train.label.unique()"
   ]
  },
  {
   "cell_type": "code",
   "execution_count": null,
   "id": "4f83ac5e-4b0d-4d4c-950f-7e2f87d9c8a2",
   "metadata": {},
   "outputs": [],
   "source": [
    "params = {'n_estimators':5000,\n",
    "      'learning_rate': 0.05,\n",
    "      'max_depth': 7,\n",
    "      'early_stopping_rounds':1000,\n",
    "      'loss_function':'MultiClass',\n",
    "       'classes_count':3,\n",
    "      'max_bin':512,\n",
    "#       'subsample':0.8,\n",
    "#       'bootstrap_type':'Poisson',\n",
    "      'random_seed':np.random.randint(0,2021)}\n",
    "\n",
    "model = cb.CatBoostClassifier(eval_metric=\"AUC\", task_type='CPU', **params)\n",
    "\n",
    "X_train = train[feature_names]\n",
    "Y_train = train[ycol]\n",
    "\n",
    "X_val = test[feature_names]\n",
    "Y_val = test[ycol]\n",
    "\n",
    "\n",
    "cat_model = model.fit(X_train,\n",
    "                      Y_train,\n",
    "                      # eval_names=['train', 'valid'],\n",
    "                      # eval_set=[(X_train, Y_train), (X_val, Y_val)],\n",
    "                      eval_set=(X_val, Y_val),\n",
    "                      plot=True,\n",
    "                      verbose=500)\n",
    "\n",
    "\n",
    "df_importance = pd.DataFrame({\n",
    "    'column': feature_names,\n",
    "    'importance': cat_model.feature_importances_,\n",
    "})\n",
    "\n",
    "# cat_model.save_model(f'cb_{frequency}.model')"
   ]
  },
  {
   "cell_type": "code",
   "execution_count": null,
   "id": "87356756-822e-4df9-8ce7-08dab7dc8ca0",
   "metadata": {},
   "outputs": [],
   "source": [
    "# ?model.fit"
   ]
  },
  {
   "cell_type": "code",
   "execution_count": null,
   "id": "4d74fe30-f316-4570-8fb4-bcf842c6d01a",
   "metadata": {},
   "outputs": [],
   "source": [
    "df_importance"
   ]
  },
  {
   "cell_type": "code",
   "execution_count": null,
   "id": "42165a3e-0766-415b-9975-bc41f6353cf8",
   "metadata": {},
   "outputs": [],
   "source": [
    "cat_model.save_model(f'cb_next_2week.model')"
   ]
  },
  {
   "cell_type": "code",
   "execution_count": null,
   "id": "2d5acbac-84b1-44a8-8843-e302c34556fb",
   "metadata": {},
   "outputs": [],
   "source": []
  }
 ],
 "metadata": {
  "kernelspec": {
   "display_name": "Python 3",
   "language": "python",
   "name": "python3"
  },
  "language_info": {
   "codemirror_mode": {
    "name": "ipython",
    "version": 3
   },
   "file_extension": ".py",
   "mimetype": "text/x-python",
   "name": "python",
   "nbconvert_exporter": "python",
   "pygments_lexer": "ipython3",
   "version": "3.7.1"
  }
 },
 "nbformat": 4,
 "nbformat_minor": 5
}
