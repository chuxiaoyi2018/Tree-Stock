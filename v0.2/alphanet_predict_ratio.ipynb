{
 "cells": [
  {
   "cell_type": "code",
   "execution_count": 1,
   "id": "a664db11-1b6b-4a86-a2bc-5564c25f0669",
   "metadata": {},
   "outputs": [],
   "source": [
    "from get_stock_data import Downloader, mkdir\n",
    "import os\n",
    "from tqdm import tqdm\n",
    "import pandas as pd\n",
    "import numpy as np\n",
    "import catboost as cb\n",
    "import datetime\n",
    "\n",
    "# 获取全部股票的日K线数据\n",
    "mkdir('stockdata/d_data')\n",
    "raw_train_path = 'stockdata/d_train'\n",
    "raw_test_path = 'stockdata/d_test'\n",
    "train_path = 'stockdata/d_data/train.csv'\n",
    "test_path = 'stockdata/d_data/test.csv'\n",
    "mode = 'train'"
   ]
  },
  {
   "cell_type": "code",
   "execution_count": 2,
   "id": "84a12b3c-3c10-439f-9348-ceed20266795",
   "metadata": {},
   "outputs": [],
   "source": [
    "if mode == 'debug':\n",
    "    train = pd.read_csv(train_path, nrows=100000)\n",
    "    test = pd.read_csv(test_path, nrows=100000)\n",
    "else:\n",
    "    train = pd.read_csv(train_path)\n",
    "    test = pd.read_csv(test_path)"
   ]
  },
  {
   "cell_type": "code",
   "execution_count": 3,
   "id": "f9a350f7-d421-43a7-8c38-0efe514a4dfb",
   "metadata": {},
   "outputs": [],
   "source": [
    "train.date = train.date.apply(lambda x: int(x.replace('-', '')))\n",
    "test.date = test.date.apply(lambda x: int(x.replace('-', '')))"
   ]
  },
  {
   "cell_type": "code",
   "execution_count": 4,
   "id": "8ad77c9c-6598-405a-8ebd-326412bfdffd",
   "metadata": {},
   "outputs": [],
   "source": [
    "train = train[train['date'] >= 20220301].reset_index(drop=True)"
   ]
  },
  {
   "cell_type": "code",
   "execution_count": 6,
   "id": "60496966-514d-4c6d-953e-32c5b21bc72b",
   "metadata": {},
   "outputs": [
    {
     "data": {
      "text/plain": [
       "array([20220301, 20220302, 20220303, 20220304, 20220307, 20220308,\n",
       "       20220309, 20220310, 20220311, 20220314, 20220315, 20220316,\n",
       "       20220317, 20220318, 20220321, 20220322, 20220323, 20220324,\n",
       "       20220325, 20220328, 20220329, 20220330, 20220331, 20220401,\n",
       "       20220406, 20220407, 20220408, 20220411, 20220412, 20220413,\n",
       "       20220414, 20220415, 20220418, 20220419, 20220420, 20220421,\n",
       "       20220422, 20220425, 20220426, 20220427, 20220428, 20220429,\n",
       "       20220505, 20220506, 20220509, 20220510, 20220511, 20220512,\n",
       "       20220513, 20220516, 20220517, 20220518, 20220519, 20220520,\n",
       "       20220523, 20220524, 20220525, 20220526, 20220527, 20220530,\n",
       "       20220531, 20220601])"
      ]
     },
     "execution_count": 6,
     "metadata": {},
     "output_type": "execute_result"
    }
   ],
   "source": [
    "train.date.unique()"
   ]
  },
  {
   "cell_type": "code",
   "execution_count": 5,
   "id": "7a2e5fec-ffd5-4556-8c87-17aa6f5d353b",
   "metadata": {},
   "outputs": [],
   "source": [
    "def feature_engineer(train, test, split=20220501):\n",
    "    train_len = len(train)\n",
    "    data = pd.concat((train, test), sort=False).reset_index(drop=True)\n",
    "    data = data.sort_values(by=['code', 'date'])\n",
    "    \n",
    "    stock_industry = pd.read_csv(\"stock_industry.csv\", encoding=\"gbk\")\n",
    "    from sklearn.preprocessing import LabelEncoder\n",
    "    lbe = LabelEncoder()\n",
    "    stock_industry['industry'] = lbe.fit_transform(stock_industry['industry'])\n",
    "    data = pd.merge(data, stock_industry[['code', 'industry']], how='left', on='code')\n",
    "\n",
    "    # alpha net \n",
    "    length = 30\n",
    "    for name in tqdm(['open', 'high', 'low', 'close', 'volume', 'amount', 'adjustflag', 'turn', 'pctChg', 'peTTM', 'psTTM', 'pcfNcfTTM', 'pbMRQ']):\n",
    "#     for name in tqdm(['open']):\n",
    "        roll_feature = []\n",
    "        for i, group in data.groupby('code', sort=False)[name]:\n",
    "            values = group.tolist()\n",
    "            values = [0]*(length - 1) + values\n",
    "            roll_feature = roll_feature + [values[i:i+length] for i in range(len(group))]\n",
    "        data = pd.concat([data, pd.DataFrame(roll_feature, columns=[f'{name}_{i}' for i in range(length)])], axis=1).reset_index(drop=True)\n",
    "    \n",
    "    \n",
    "    # generate label\n",
    "    data['label'] = data.groupby('code').close.transform(lambda x:(x - x.shift(-14)) / (x + 1e-7) )\n",
    "    data = data.dropna(subset = ['label'], inplace=False)\n",
    "    data = data.replace(np.nan, 0)\n",
    "    return data[data['date'] <= split].reset_index(drop=True), data[data['date'] > split].reset_index(drop=True)"
   ]
  },
  {
   "cell_type": "code",
   "execution_count": 6,
   "id": "5eca384c-84a6-42d8-9733-3d18d4fe7773",
   "metadata": {},
   "outputs": [
    {
     "name": "stderr",
     "output_type": "stream",
     "text": [
      "100%|██████████| 12/12 [00:40<00:00,  3.37s/it]\n"
     ]
    }
   ],
   "source": [
    "train, test = feature_engineer(train, test)\n",
    "\n",
    "# f_train_path = 'stockdata/d_data/f_train_debug.csv'\n",
    "# f_test_path = 'stockdata/d_data/f_test_debug.csv'\n",
    "# train.to_csv(f_train_path, index=False)\n",
    "# test.to_csv(f_test_path, index=False)"
   ]
  },
  {
   "cell_type": "code",
   "execution_count": 7,
   "id": "0a81867b-3105-4b24-8b86-95a55deaae1b",
   "metadata": {},
   "outputs": [],
   "source": [
    "\n",
    "\n",
    "ycol = 'label'\n",
    "feature_names = list(\n",
    "    filter(lambda x: x not in [ycol, 'code', 'date', ''], train.columns))\n",
    "\n",
    "# print(feature_names)"
   ]
  },
  {
   "cell_type": "code",
   "execution_count": 8,
   "id": "e9b44194-86e7-4cd8-bdc8-025cbe16f898",
   "metadata": {},
   "outputs": [],
   "source": [
    "quantile_30, quantile_70 = train.label.quantile([0.3, 0.7]).values"
   ]
  },
  {
   "cell_type": "code",
   "execution_count": 9,
   "id": "e64a0232-75dc-4375-83be-ab5e239bfc0c",
   "metadata": {},
   "outputs": [],
   "source": [
    "def label_quantile(x):\n",
    "    if x<quantile_30:\n",
    "        return 0\n",
    "    elif x<quantile_70:\n",
    "        return 1\n",
    "    else:\n",
    "        return 2"
   ]
  },
  {
   "cell_type": "code",
   "execution_count": 10,
   "id": "1cbcb7b6-ddfb-4b9b-b45a-f8131adb8a2e",
   "metadata": {},
   "outputs": [],
   "source": [
    "train.label = train.label.apply(label_quantile)\n",
    "test.label = test.label.apply(label_quantile)"
   ]
  },
  {
   "cell_type": "code",
   "execution_count": 11,
   "id": "4f83ac5e-4b0d-4d4c-950f-7e2f87d9c8a2",
   "metadata": {},
   "outputs": [
    {
     "name": "stdout",
     "output_type": "stream",
     "text": [
      "0:\ttest: 0.5061205\tbest: 0.5061205 (0)\ttotal: 282ms\tremaining: 23m 29s\n",
      "500:\ttest: 0.5279494\tbest: 0.5474646 (18)\ttotal: 1m 48s\tremaining: 16m 14s\n",
      "1000:\ttest: 0.5234501\tbest: 0.5474646 (18)\ttotal: 3m 36s\tremaining: 14m 26s\n",
      "Stopped by overfitting detector  (1000 iterations wait)\n",
      "\n",
      "bestTest = 0.5474646431\n",
      "bestIteration = 18\n",
      "\n",
      "Shrink model to first 19 iterations.\n"
     ]
    }
   ],
   "source": [
    "params = {'n_estimators':5000,\n",
    "      'learning_rate': 0.05,\n",
    "      'max_depth': 7,\n",
    "      'early_stopping_rounds':1000,\n",
    "      'loss_function':'MultiClass',\n",
    "       'classes_count':3,\n",
    "      'max_bin':512,\n",
    "#       'subsample':0.8,\n",
    "#       'bootstrap_type':'Poisson',\n",
    "      'random_seed':np.random.randint(0,2021)}\n",
    "\n",
    "model = cb.CatBoostClassifier(eval_metric=\"AUC\", task_type='CPU', **params)\n",
    "\n",
    "X_train = train[feature_names]\n",
    "Y_train = train[ycol]\n",
    "\n",
    "X_val = test[feature_names]\n",
    "Y_val = test[ycol]\n",
    "\n",
    "\n",
    "cat_model = model.fit(X_train,\n",
    "                      Y_train,\n",
    "                      eval_set=(X_val, Y_val),\n",
    "                      plot=False,\n",
    "                      verbose=500)\n",
    "\n",
    "\n",
    "df_importance = pd.DataFrame({\n",
    "    'column': feature_names,\n",
    "    'importance': cat_model.feature_importances_,\n",
    "})\n",
    "\n",
    "# cat_model.save_model(f'cb_{frequency}.model')"
   ]
  },
  {
   "cell_type": "code",
   "execution_count": 12,
   "id": "4d74fe30-f316-4570-8fb4-bcf842c6d01a",
   "metadata": {},
   "outputs": [
    {
     "name": "stdout",
     "output_type": "stream",
     "text": [
      "       column  importance\n",
      "0        open    0.000000\n",
      "1        high    0.000000\n",
      "2         low    0.973224\n",
      "3       close    0.685092\n",
      "4    preclose    0.000000\n",
      "..        ...         ...\n",
      "372  pbMRQ_25    1.467207\n",
      "373  pbMRQ_26    0.000000\n",
      "374  pbMRQ_27    1.753499\n",
      "375  pbMRQ_28    1.217345\n",
      "376  pbMRQ_29    3.572795\n",
      "\n",
      "[377 rows x 2 columns]\n"
     ]
    }
   ],
   "source": [
    "print(df_importance)"
   ]
  },
  {
   "cell_type": "code",
   "execution_count": null,
   "id": "42165a3e-0766-415b-9975-bc41f6353cf8",
   "metadata": {},
   "outputs": [],
   "source": [
    "cat_model.save_model(f'next_2week_alphanet30.model')"
   ]
  }
 ],
 "metadata": {
  "kernelspec": {
   "display_name": "Python 3",
   "language": "python",
   "name": "python3"
  },
  "language_info": {
   "codemirror_mode": {
    "name": "ipython",
    "version": 3
   },
   "file_extension": ".py",
   "mimetype": "text/x-python",
   "name": "python",
   "nbconvert_exporter": "python",
   "pygments_lexer": "ipython3",
   "version": "3.7.1"
  }
 },
 "nbformat": 4,
 "nbformat_minor": 5
}
